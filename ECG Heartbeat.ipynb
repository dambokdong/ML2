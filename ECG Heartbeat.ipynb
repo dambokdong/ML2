{
 "cells": [
  {
   "cell_type": "markdown",
   "metadata": {},
   "source": [
    "### Import Library"
   ]
  },
  {
   "cell_type": "code",
   "execution_count": 1,
   "metadata": {},
   "outputs": [],
   "source": [
    "import pandas as pd\n",
    "import numpy as np\n",
    "import matplotlib.pyplot as plt\n",
    "import itertools\n",
    "from sklearn.utils import resample\n",
    "from imblearn.over_sampling import SMOTE, BorderlineSMOTE, SVMSMOTE, KMeansSMOTE, ADASYN\n",
    "from keras.utils.np_utils import to_categorical"
   ]
  },
  {
   "cell_type": "markdown",
   "metadata": {},
   "source": [
    "### Import Data"
   ]
  },
  {
   "cell_type": "code",
   "execution_count": 2,
   "metadata": {},
   "outputs": [],
   "source": [
    "train_df = pd.read_csv('mitbih_train.csv',header=None)\n",
    "test_df = pd.read_csv('mitbih_test.csv',header=None)"
   ]
  },
  {
   "cell_type": "code",
   "execution_count": 3,
   "metadata": {
    "scrolled": true
   },
   "outputs": [
    {
     "name": "stdout",
     "output_type": "stream",
     "text": [
      "0    72471\n",
      "4     6431\n",
      "2     5788\n",
      "1     2223\n",
      "3      641\n",
      "Name: 187, dtype: int64\n"
     ]
    }
   ],
   "source": [
    "train_df[187]=train_df[187].astype(int)\n",
    "overview=train_df[187].value_counts()\n",
    "print(overview)"
   ]
  },
  {
   "cell_type": "code",
   "execution_count": 4,
   "metadata": {},
   "outputs": [
    {
     "data": {
      "image/png": "[encoded data removed]",
      "text/plain": [
       "<Figure size 720x360 with 1 Axes>"
      ]
     },
     "metadata": {},
     "output_type": "display_data"
    }
   ],
   "source": [
    "original=train_df[187].value_counts()\n",
    "plt.figure(figsize=(10,5))\n",
    "my_circle=plt.Circle( (0,0), 0.7, color='white')\n",
    "plt.pie(original, labels=['n','q','v','s','f'], colors=['red','green','blue','skyblue','orange'],autopct='%1.1f%%')\n",
    "p=plt.gcf()\n",
    "p.gca().add_artist(my_circle)\n",
    "plt.show()"
   ]
  },
  {
   "cell_type": "markdown",
   "metadata": {},
   "source": [
    "### Oversampling"
   ]
  },
  {
   "cell_type": "code",
   "execution_count": 5,
   "metadata": {},
   "outputs": [],
   "source": [
    "n_samples = max(overview)\n",
    "\n",
    "df_0=train_df[train_df[187]==0]\n",
    "df_1=train_df[train_df[187]==1]\n",
    "df_2=train_df[train_df[187]==2]\n",
    "df_3=train_df[train_df[187]==3]\n",
    "df_4=train_df[train_df[187]==4]"
   ]
  },
  {
   "cell_type": "markdown",
   "metadata": {},
   "source": [
    "#### Random Oversampling"
   ]
  },
  {
   "cell_type": "code",
   "execution_count": 6,
   "metadata": {},
   "outputs": [],
   "source": [
    "df_1_upsample=resample(df_1,replace=True,n_samples=n_samples,random_state=123)\n",
    "df_2_upsample=resample(df_2,replace=True,n_samples=n_samples,random_state=124)\n",
    "df_3_upsample=resample(df_3,replace=True,n_samples=n_samples,random_state=125)\n",
    "df_4_upsample=resample(df_4,replace=True,n_samples=n_samples,random_state=126)"
   ]
  },
  {
   "cell_type": "code",
   "execution_count": 7,
   "metadata": {
    "collapsed": true
   },
   "outputs": [
    {
     "data": {
      "image/png": "[encoded data removed]",
      "text/plain": [
       "<Figure size 720x360 with 1 Axes>"
      ]
     },
     "metadata": {},
     "output_type": "display_data"
    }
   ],
   "source": [
    "train_up=pd.concat([df_0,df_1_upsample,df_2_upsample,df_3_upsample,df_4_upsample])\n",
    "X_up, y_up = train_up.iloc[:,:-1].values, train_up.iloc[:,-1].values"
   ]
  },
  {
   "cell_type": "markdown",
   "metadata": {},
   "source": [
    "#### Oversampling Methods"
   ]
  },
  {
   "cell_type": "code",
   "execution_count": 10,
   "metadata": {},
   "outputs": [],
   "source": [
    "def oversample(func, df, cluster_balance_threshold=None):\n",
    "    if cluster_balance_threshold:\n",
    "        method = func(cluster_balance_threshold=cluster_balance_threshold)\n",
    "    else:\n",
    "        method = func()\n",
    "    X = df.iloc[:,:-1].values\n",
    "    y = df.iloc[:,-1].values\n",
    "    X, y = method.fit_resample(X,y)\n",
    "    return X, y"
   ]
  },
  {
   "cell_type": "code",
   "execution_count": 11,
   "metadata": {},
   "outputs": [],
   "source": [
    "# Generating Different Training Sets\n",
    "X_smote, y_smote = oversample(SMOTE, train_df)\n",
    "X_bord, y_bord = oversample(BorderlineSMOTE, train_df)\n",
    "X_ada, y_ada = oversample(ADASYN, train_df)\n",
    "X_km, y_km = oversample(KMeansSMOTE, train_df, 0.01)"
   ]
  },
  {
   "cell_type": "markdown",
   "metadata": {},
   "source": [
    "### CNN Multiclass Classification"
   ]
  },
  {
   "cell_type": "code",
   "execution_count": 13,
   "metadata": {},
   "outputs": [],
   "source": [
    "# helper function to tensor\n",
    "def transform(X,y):\n",
    "    X = X.reshape(X.shape[0], X.shape[1], 1)\n",
    "    y = to_categorical(y)\n",
    "    return X, y"
   ]
  },
  {
   "cell_type": "markdown",
   "metadata": {
    "collapsed": true
   },
   "source": [
    "#### CNN "
   ]
  },
  {
   "cell_type": "code",
   "execution_count": 14,
   "metadata": {},
   "outputs": [],
   "source": [
    "import keras\n",
    "from keras.layers import Dense, Convolution1D, MaxPool1D, Flatten, Dropout\n",
    "from keras.layers import Input\n",
    "from keras.layers import BatchNormalization\n",
    "from keras.models import Model\n",
    "from keras.callbacks import EarlyStopping, ModelCheckpoint"
   ]
  },
  {
   "cell_type": "code",
   "execution_count": 49,
   "metadata": {},
   "outputs": [],
   "source": [
    "def network(X_train,y_train,X_test,y_test,name='np'):\n",
    "    \n",
    "    im_shape=(X_train.shape[1],1)\n",
    "    inputs_cnn=Input(shape=(im_shape), name='inputs_cnn')\n",
    "    \n",
    "    conv1_1=Convolution1D(64, (6), activation='relu', input_shape=im_shape)(inputs_cnn)\n",
    "    conv1_1=BatchNormalization()(conv1_1)\n",
    "    pool1=MaxPool1D(pool_size=(3), strides=(2), padding=\"same\")(conv1_1)\n",
    "    \n",
    "    conv2_1=Convolution1D(64, (3), activation='relu', input_shape=im_shape)(pool1)\n",
    "    conv2_1=BatchNormalization()(conv2_1)\n",
    "    pool2=MaxPool1D(pool_size=(2), strides=(2), padding=\"same\")(conv2_1)\n",
    "    \n",
    "    conv3_1=Convolution1D(64, (3), activation='relu', input_shape=im_shape)(pool2)\n",
    "    conv3_1=BatchNormalization()(conv3_1)\n",
    "    pool3=MaxPool1D(pool_size=(2), strides=(2), padding=\"same\")(conv3_1)\n",
    "    \n",
    "    flatten=Flatten()(pool3)\n",
    "    dense_end1 = Dense(64, activation='relu')(flatten)\n",
    "    dense_end2 = Dense(32, activation='relu')(dense_end1)\n",
    "    main_output = Dense(5, activation='softmax', name='main_output')(dense_end2)\n",
    "    \n",
    "    model = Model(inputs= inputs_cnn, outputs=main_output)\n",
    "    model.compile(optimizer='adam', loss='categorical_crossentropy',metrics = ['accuracy'])\n",
    "    \n",
    "    callbacks = [EarlyStopping(monitor='val_loss', patience=8),\n",
    "                 ModelCheckpoint(filepath='f{name}.h5', monitor='val_loss', save_best_only=True)]\n",
    "\n",
    "    history = model.fit(X_train, y_train, epochs=30, callbacks=callbacks, \n",
    "                      batch_size=32,validation_data=(X_test,y_test))\n",
    "    \n",
    "    model.load_weights('f{name}.h5')\n",
    "    \n",
    "    return (model,history)"
   ]
  },
  {
   "cell_type": "code",
   "execution_count": null,
   "metadata": {},
   "outputs": [],
   "source": []
  },
  {
   "cell_type": "markdown",
   "metadata": {},
   "source": [
    "### Metrics"
   ]
  },
  {
   "cell_type": "markdown",
   "metadata": {},
   "source": [
    "#### Confusion Matrix "
   ]
  },
  {
   "cell_type": "code",
   "execution_count": 17,
   "metadata": {},
   "outputs": [],
   "source": [
    "from sklearn.metrics import f1_score\n",
    "from sklearn.metrics import confusion_matrix\n",
    "import itertools"
   ]
  },
  {
   "cell_type": "code",
   "execution_count": 117,
   "metadata": {},
   "outputs": [],
   "source": [
    "# put source of code, towardsdatascience"
   ]
  },
  {
   "cell_type": "code",
   "execution_count": 18,
   "metadata": {},
   "outputs": [],
   "source": [
    "def plot_confusion_matrix(cm, classes,\n",
    "                          normalize=False,\n",
    "                          title='Confusion matrix',\n",
    "                          cmap=plt.cm.Blues):\n",
    "    \"\"\"\n",
    "    This function prints and plots the confusion matrix.\n",
    "    Normalization can be applied by setting `normalize=True`.\n",
    "    \"\"\"\n",
    "    if normalize:\n",
    "        cm = cm.astype('float') / cm.sum(axis=1)[:, np.newaxis]\n",
    "        print(\"Normalized confusion matrix\")\n",
    "    else:\n",
    "        print('Confusion matrix, without normalization')\n",
    "\n",
    "    plt.imshow(cm, interpolation='nearest', cmap=cmap)\n",
    "    plt.title(title)\n",
    "    plt.colorbar()\n",
    "    tick_marks = np.arange(len(classes))\n",
    "    plt.xticks(tick_marks, classes, rotation=45)\n",
    "    plt.yticks(tick_marks, classes)\n",
    "\n",
    "    fmt = '.2f' if normalize else 'd'\n",
    "    thresh = cm.max() / 2.\n",
    "    for i, j in itertools.product(range(cm.shape[0]), range(cm.shape[1])):\n",
    "        plt.text(j, i, format(cm[i, j], fmt),\n",
    "                 horizontalalignment=\"center\",\n",
    "                 color=\"white\" if cm[i, j] > thresh else \"black\")\n",
    "\n",
    "    plt.tight_layout()\n",
    "    plt.ylabel('True label')\n",
    "    plt.xlabel('Predicted label')"
   ]
  },
  {
   "cell_type": "code",
   "execution_count": 19,
   "metadata": {},
   "outputs": [],
   "source": [
    "# 1. definitions \n",
    "# 2. Paper Source"
   ]
  },
  {
   "cell_type": "code",
   "execution_count": 20,
   "metadata": {},
   "outputs": [],
   "source": [
    "def TP(i, pred_y): # i denotes class \n",
    "    #predicted as i class and true=i\n",
    "    true_y = test_df.iloc[:,-1].values\n",
    "    n = len(pred_y)\n",
    "    score=0\n",
    "    for j in range(n):\n",
    "        if pred_y[j]==i and true_y[j]==i:\n",
    "            score+=1   \n",
    "    return score"
   ]
  },
  {
   "cell_type": "code",
   "execution_count": 21,
   "metadata": {},
   "outputs": [],
   "source": [
    "def FP(i, pred_y): # i denotes class \n",
    "    #predicted as i class but true!=i\n",
    "    true_y = test_df.iloc[:,-1].values\n",
    "    n = len(pred_y)\n",
    "    score=0\n",
    "    for j in range(n):\n",
    "        if pred_y[j]==i and true_y[j]!=i:\n",
    "            score+=1\n",
    "    return score"
   ]
  },
  {
   "cell_type": "code",
   "execution_count": 22,
   "metadata": {},
   "outputs": [],
   "source": [
    "def TN(i, pred_y): # i denotes class \n",
    "    #predicted as non-i class and made pred=true\n",
    "    true_y = test_df.iloc[:,-1].values\n",
    "    n = len(pred_y)\n",
    "    score=0\n",
    "    for j in range(n):\n",
    "        if pred_y[j]!=i and true_y[j]==pred_y[j]:\n",
    "            score+=1       \n",
    "    return score"
   ]
  },
  {
   "cell_type": "code",
   "execution_count": 23,
   "metadata": {},
   "outputs": [],
   "source": [
    "def FN(i, pred_y): # i denotes class \n",
    "    #predicted as non-i class but true=i\n",
    "    true_y = test_df.iloc[:,-1].values\n",
    "    n = len(pred_y)\n",
    "    score=0\n",
    "    for j in range(n):\n",
    "        if pred_y[j]!=i and true_y[j]==i:\n",
    "            score+=1     \n",
    "    return score"
   ]
  },
  {
   "cell_type": "code",
   "execution_count": 24,
   "metadata": {},
   "outputs": [],
   "source": [
    "def precision(i,pred_y):\n",
    "    return TP(i,pred_y)/(TP(i,pred_y)+FP(i,pred_y))\n",
    "\n",
    "def recall(i,pred_y):\n",
    "    return TP(i,pred_y)/(TP(i,pred_y)+FN(i,pred_y))\n",
    "\n",
    "def F_measure(i, pred_y):\n",
    "    r = recall(i,pred_y)\n",
    "    p = precision(i,pred_y)\n",
    "    return 2*r*p/(r+p)\n",
    "\n",
    "def G_mean(i, pred_y):\n",
    "    r=recall(i,pred_y)\n",
    "    return np.sqrt(r*( TN(i,pred_y)/(TN(i,pred_y)+FP(i,pred_y)) ))\n",
    "\n",
    "def mGM(pred_y):\n",
    "    score = 1\n",
    "    for i in range(5):\n",
    "        score*=recall(i,pred_y)\n",
    "    return np.power(score,1/5)\n",
    "\n",
    "def AvAccu(pred_y):\n",
    "    score = 0\n",
    "    for i in range(5): #num_classes\n",
    "        score+=precision(i,pred_y)\n",
    "    return score/5\n",
    "\n",
    "def CBA(pred_y):\n",
    "    score=0\n",
    "    for i in range(5):\n",
    "        score+=( TP(i,pred_y)/max(FN(i,pred_y),FP(i,pred_y)) )\n",
    "    return score/5"
   ]
  },
  {
   "cell_type": "code",
   "execution_count": null,
   "metadata": {},
   "outputs": [],
   "source": []
  },
  {
   "cell_type": "markdown",
   "metadata": {},
   "source": [
    "### Evaluation"
   ]
  },
  {
   "cell_type": "code",
   "execution_count": 25,
   "metadata": {},
   "outputs": [],
   "source": [
    "def evaluate(X_train, y_train, X_test, y_test,name='np'):\n",
    "    model, _ = network(X_train, y_train, X_test, y_test)\n",
    "    y_pred = model.predict(X_test)\n",
    "    # Compute confusion matrix\n",
    "    cnf_matrix = confusion_matrix(y_test.argmax(axis=1), y_pred.argmax(axis=1))\n",
    "    np.set_printoptions(precision=2)\n",
    "\n",
    "    # Plot non-normalized confusion matrix\n",
    "    plt.figure(figsize=(10, 10))\n",
    "    plot_confusion_matrix(cnf_matrix, classes=['N', 'S', 'V', 'F', 'Q'],normalize=True,\n",
    "                          title='Confusion matrix, with normalization')\n",
    "    plt.show()\n",
    "    \n",
    "    return y_pred"
   ]
  },
  {
   "cell_type": "code",
   "execution_count": 26,
   "metadata": {},
   "outputs": [],
   "source": [
    "X_test, y_test = transform(test_df.iloc[:,:-1].values, test_df.iloc[:,-1].values)"
   ]
  },
  {
   "cell_type": "markdown",
   "metadata": {},
   "source": [
    "##### Non-processed Result"
   ]
  },
  {
   "cell_type": "code",
   "execution_count": 32,
   "metadata": {
    "scrolled": false
   },
   "outputs": [
    {
     "name": "stdout",
     "output_type": "stream",
     "text": [
      "Epoch 1/30\n",
      "2737/2737 [==============================] - 51s 18ms/step - loss: 0.1258 - accuracy: 0.9648 - val_loss: 0.0930 - val_accuracy: 0.9741\n",
      "Epoch 2/30\n",
      "2737/2737 [==============================] - 60s 22ms/step - loss: 0.0707 - accuracy: 0.9796 - val_loss: 0.0852 - val_accuracy: 0.9759\n",
      "Epoch 3/30\n",
      "2737/2737 [==============================] - 51s 19ms/step - loss: 0.0555 - accuracy: 0.9835 - val_loss: 0.0698 - val_accuracy: 0.9812\n",
      "Epoch 4/30\n",
      "2737/2737 [==============================] - 64s 23ms/step - loss: 0.0455 - accuracy: 0.9864 - val_loss: 0.0777 - val_accuracy: 0.9804\n",
      "Epoch 5/30\n",
      "2737/2737 [==============================] - 60s 22ms/step - loss: 0.0385 - accuracy: 0.9884 - val_loss: 0.0733 - val_accuracy: 0.9842\n",
      "Epoch 6/30\n",
      "2737/2737 [==============================] - 65s 24ms/step - loss: 0.0339 - accuracy: 0.9895 - val_loss: 0.0676 - val_accuracy: 0.9842\n",
      "Epoch 7/30\n",
      "2737/2737 [==============================] - 61s 22ms/step - loss: 0.0303 - accuracy: 0.9902 - val_loss: 0.0686 - val_accuracy: 0.9847\n",
      "Epoch 8/30\n",
      "2737/2737 [==============================] - 63s 23ms/step - loss: 0.0259 - accuracy: 0.9917 - val_loss: 0.0721 - val_accuracy: 0.9841\n",
      "Epoch 9/30\n",
      "2737/2737 [==============================] - 63s 23ms/step - loss: 0.0238 - accuracy: 0.9920 - val_loss: 0.0785 - val_accuracy: 0.9836\n",
      "Epoch 10/30\n",
      "2737/2737 [==============================] - 62s 23ms/step - loss: 0.0210 - accuracy: 0.9930 - val_loss: 0.0782 - val_accuracy: 0.9842\n",
      "Epoch 11/30\n",
      "2737/2737 [==============================] - 65s 24ms/step - loss: 0.0201 - accuracy: 0.9931 - val_loss: 0.0986 - val_accuracy: 0.9818\n",
      "Epoch 12/30\n",
      "2737/2737 [==============================] - 61s 22ms/step - loss: 0.0181 - accuracy: 0.9939 - val_loss: 0.0829 - val_accuracy: 0.9803\n",
      "Epoch 13/30\n",
      "2737/2737 [==============================] - 61s 22ms/step - loss: 0.0164 - accuracy: 0.9944 - val_loss: 0.0955 - val_accuracy: 0.9846\n",
      "Epoch 14/30\n",
      "2737/2737 [==============================] - 58s 21ms/step - loss: 0.0159 - accuracy: 0.9945 - val_loss: 0.0920 - val_accuracy: 0.9851\n",
      "685/685 [==============================] - 4s 5ms/step\n",
      "Normalized confusion matrix\n"
     ]
    },
    {
     "data": {
      "image/png": "[encoded data removed]",
      "text/plain": [
       "<Figure size 720x720 with 2 Axes>"
      ]
     },
     "metadata": {
      "needs_background": "light"
     },
     "output_type": "display_data"
    }
   ],
   "source": [
    "X_train, y_train = transform(train_df.iloc[:,:-1].values,train_df.iloc[:,-1].values)\n",
    "y_pred_np = evaluate(X_train, y_train, X_test,y_test)"
   ]
  },
  {
   "cell_type": "markdown",
   "metadata": {},
   "source": [
    "##### Random Upsample Result"
   ]
  },
  {
   "cell_type": "code",
   "execution_count": 33,
   "metadata": {},
   "outputs": [
    {
     "name": "stdout",
     "output_type": "stream",
     "text": [
      "Epoch 1/30\n",
      "11324/11324 [==============================] - 260s 23ms/step - loss: 0.0996 - accuracy: 0.9659 - val_loss: 0.1391 - val_accuracy: 0.9606\n",
      "Epoch 2/30\n",
      "11324/11324 [==============================] - 236s 21ms/step - loss: 0.0317 - accuracy: 0.9900 - val_loss: 0.1891 - val_accuracy: 0.9569\n",
      "Epoch 3/30\n",
      "11324/11324 [==============================] - 206s 18ms/step - loss: 0.0193 - accuracy: 0.9941 - val_loss: 0.1134 - val_accuracy: 0.9780\n",
      "Epoch 4/30\n",
      "11324/11324 [==============================] - 207s 18ms/step - loss: 0.0149 - accuracy: 0.9955 - val_loss: 0.1205 - val_accuracy: 0.9786\n",
      "Epoch 5/30\n",
      "11324/11324 [==============================] - 206s 18ms/step - loss: 0.0116 - accuracy: 0.9965 - val_loss: 0.1176 - val_accuracy: 0.9822\n",
      "Epoch 6/30\n",
      "11324/11324 [==============================] - 203s 18ms/step - loss: 0.0095 - accuracy: 0.9971 - val_loss: 0.1338 - val_accuracy: 0.9784\n",
      "Epoch 7/30\n",
      "11324/11324 [==============================] - 210s 19ms/step - loss: 0.0084 - accuracy: 0.9976 - val_loss: 0.1431 - val_accuracy: 0.9783\n",
      "Epoch 8/30\n",
      "11324/11324 [==============================] - 201s 18ms/step - loss: 0.0077 - accuracy: 0.9979 - val_loss: 0.1522 - val_accuracy: 0.9809\n",
      "Epoch 9/30\n",
      "11324/11324 [==============================] - 200s 18ms/step - loss: 0.0069 - accuracy: 0.9981 - val_loss: 0.1433 - val_accuracy: 0.9834\n",
      "Epoch 10/30\n",
      "11324/11324 [==============================] - 221s 20ms/step - loss: 0.0062 - accuracy: 0.9983 - val_loss: 0.1727 - val_accuracy: 0.9787\n",
      "Epoch 11/30\n",
      "11324/11324 [==============================] - 209s 18ms/step - loss: 0.0059 - accuracy: 0.9983 - val_loss: 0.1579 - val_accuracy: 0.9818\n",
      "685/685 [==============================] - 3s 5ms/step\n",
      "Normalized confusion matrix\n"
     ]
    },
    {
     "data": {
      "image/png": "[encoded data removed]",
      "text/plain": [
       "<Figure size 720x720 with 2 Axes>"
      ]
     },
     "metadata": {
      "needs_background": "light"
     },
     "output_type": "display_data"
    }
   ],
   "source": [
    "X_train, y_train = transform(X_up, y_up)\n",
    "y_pred_up = evaluate(X_train, y_train, X_test,y_test,'up')"
   ]
  },
  {
   "cell_type": "code",
   "execution_count": null,
   "metadata": {},
   "outputs": [],
   "source": []
  },
  {
   "cell_type": "markdown",
   "metadata": {},
   "source": [
    "##### SMOTE Result"
   ]
  },
  {
   "cell_type": "code",
   "execution_count": 34,
   "metadata": {},
   "outputs": [
    {
     "name": "stdout",
     "output_type": "stream",
     "text": [
      "Epoch 1/30\n",
      "11324/11324 [==============================] - 237s 21ms/step - loss: 0.0916 - accuracy: 0.9682 - val_loss: 0.1396 - val_accuracy: 0.9609\n",
      "Epoch 2/30\n",
      "11324/11324 [==============================] - 232s 20ms/step - loss: 0.0326 - accuracy: 0.9894 - val_loss: 0.1048 - val_accuracy: 0.9799\n",
      "Epoch 3/30\n",
      "11324/11324 [==============================] - 228s 20ms/step - loss: 0.0220 - accuracy: 0.9930 - val_loss: 0.1146 - val_accuracy: 0.9775\n",
      "Epoch 4/30\n",
      "11324/11324 [==============================] - 209s 18ms/step - loss: 0.0167 - accuracy: 0.9945 - val_loss: 0.1008 - val_accuracy: 0.9834\n",
      "Epoch 5/30\n",
      "11324/11324 [==============================] - 201s 18ms/step - loss: 0.0132 - accuracy: 0.9958 - val_loss: 0.1191 - val_accuracy: 0.9837\n",
      "Epoch 6/30\n",
      "11324/11324 [==============================] - 194s 17ms/step - loss: 0.0114 - accuracy: 0.9964 - val_loss: 0.1766 - val_accuracy: 0.9829\n",
      "Epoch 7/30\n",
      "11324/11324 [==============================] - 193s 17ms/step - loss: 0.0103 - accuracy: 0.9968 - val_loss: 0.1361 - val_accuracy: 0.9831\n",
      "Epoch 8/30\n",
      "11324/11324 [==============================] - 197s 17ms/step - loss: 0.0087 - accuracy: 0.9974 - val_loss: 0.1640 - val_accuracy: 0.9825\n",
      "Epoch 9/30\n",
      "11324/11324 [==============================] - 195s 17ms/step - loss: 0.0086 - accuracy: 0.9975 - val_loss: 0.1559 - val_accuracy: 0.9792\n",
      "Epoch 10/30\n",
      "11324/11324 [==============================] - 214s 19ms/step - loss: 0.0079 - accuracy: 0.9978 - val_loss: 0.1439 - val_accuracy: 0.9822\n",
      "Epoch 11/30\n",
      "11324/11324 [==============================] - 240s 21ms/step - loss: 0.0066 - accuracy: 0.9981 - val_loss: 0.1554 - val_accuracy: 0.9828\n",
      "Epoch 12/30\n",
      "11324/11324 [==============================] - 218s 19ms/step - loss: 0.0065 - accuracy: 0.9981 - val_loss: 0.1649 - val_accuracy: 0.9834\n",
      "685/685 [==============================] - 4s 5ms/step\n",
      "Normalized confusion matrix\n"
     ]
    },
    {
     "data": {
      "image/png": "[encoded data removed]",
      "text/plain": [
       "<Figure size 720x720 with 2 Axes>"
      ]
     },
     "metadata": {
      "needs_background": "light"
     },
     "output_type": "display_data"
    }
   ],
   "source": [
    "X_train, y_train = transform(X_smote, y_smote)\n",
    "y_pred_sm = evaluate(X_train, y_train, X_test,y_test,'sm') "
   ]
  },
  {
   "cell_type": "code",
   "execution_count": null,
   "metadata": {},
   "outputs": [],
   "source": []
  },
  {
   "cell_type": "markdown",
   "metadata": {},
   "source": [
    "##### BorderlineSMOTE Result"
   ]
  },
  {
   "cell_type": "code",
   "execution_count": 35,
   "metadata": {},
   "outputs": [
    {
     "name": "stdout",
     "output_type": "stream",
     "text": [
      "Epoch 1/30\n",
      "11324/11324 [==============================] - 209s 18ms/step - loss: 0.0967 - accuracy: 0.9667 - val_loss: 0.1140 - val_accuracy: 0.9745\n",
      "Epoch 2/30\n",
      "11324/11324 [==============================] - 200s 18ms/step - loss: 0.0321 - accuracy: 0.9903 - val_loss: 0.1187 - val_accuracy: 0.9715\n",
      "Epoch 3/30\n",
      "11324/11324 [==============================] - 201s 18ms/step - loss: 0.0216 - accuracy: 0.9937 - val_loss: 0.1883 - val_accuracy: 0.9522\n",
      "Epoch 4/30\n",
      "11324/11324 [==============================] - 203s 18ms/step - loss: 0.0159 - accuracy: 0.9953 - val_loss: 0.1096 - val_accuracy: 0.9793\n",
      "Epoch 5/30\n",
      "11324/11324 [==============================] - 199s 18ms/step - loss: 0.0131 - accuracy: 0.9963 - val_loss: 0.1113 - val_accuracy: 0.9784\n",
      "Epoch 6/30\n",
      "11324/11324 [==============================] - 198s 18ms/step - loss: 0.0110 - accuracy: 0.9969 - val_loss: 0.1273 - val_accuracy: 0.9795\n",
      "Epoch 7/30\n",
      "11324/11324 [==============================] - 199s 18ms/step - loss: 0.0096 - accuracy: 0.9973 - val_loss: 0.1163 - val_accuracy: 0.9826\n",
      "Epoch 8/30\n",
      "11324/11324 [==============================] - 212s 19ms/step - loss: 0.0088 - accuracy: 0.9974 - val_loss: 0.1196 - val_accuracy: 0.9827\n",
      "Epoch 9/30\n",
      "11324/11324 [==============================] - 210s 19ms/step - loss: 0.0079 - accuracy: 0.9976 - val_loss: 0.1356 - val_accuracy: 0.9819\n",
      "Epoch 10/30\n",
      "11324/11324 [==============================] - 204s 18ms/step - loss: 0.0071 - accuracy: 0.9980 - val_loss: 0.1437 - val_accuracy: 0.9779\n",
      "Epoch 11/30\n",
      "11324/11324 [==============================] - 200s 18ms/step - loss: 0.0062 - accuracy: 0.9983 - val_loss: 0.1306 - val_accuracy: 0.9829\n",
      "Epoch 12/30\n",
      "11324/11324 [==============================] - 202s 18ms/step - loss: 0.0063 - accuracy: 0.9983 - val_loss: 0.1276 - val_accuracy: 0.9827\n",
      "685/685 [==============================] - 3s 5ms/step\n",
      "Normalized confusion matrix\n"
     ]
    },
    {
     "data": {
      "image/png": "[encoded data removed]",
      "text/plain": [
       "<Figure size 720x720 with 2 Axes>"
      ]
     },
     "metadata": {
      "needs_background": "light"
     },
     "output_type": "display_data"
    }
   ],
   "source": [
    "X_train, y_train = transform(X_bord, y_bord)\n",
    "y_pred_bord = evaluate(X_train, y_train, X_test,y_test,'bord')"
   ]
  },
  {
   "cell_type": "code",
   "execution_count": null,
   "metadata": {},
   "outputs": [],
   "source": []
  },
  {
   "cell_type": "markdown",
   "metadata": {},
   "source": [
    "##### KMeansSMOTE Result"
   ]
  },
  {
   "cell_type": "code",
   "execution_count": 36,
   "metadata": {},
   "outputs": [
    {
     "name": "stdout",
     "output_type": "stream",
     "text": [
      "Epoch 1/30\n",
      "11324/11324 [==============================] - 207s 18ms/step - loss: 0.0722 - accuracy: 0.9758 - val_loss: 0.1235 - val_accuracy: 0.9675\n",
      "Epoch 2/30\n",
      "11324/11324 [==============================] - 208s 18ms/step - loss: 0.0267 - accuracy: 0.9921 - val_loss: 0.0910 - val_accuracy: 0.9784\n",
      "Epoch 3/30\n",
      "11324/11324 [==============================] - 208s 18ms/step - loss: 0.0185 - accuracy: 0.9946 - val_loss: 0.0925 - val_accuracy: 0.9798\n",
      "Epoch 4/30\n",
      "11324/11324 [==============================] - 205s 18ms/step - loss: 0.0143 - accuracy: 0.9960 - val_loss: 0.1260 - val_accuracy: 0.9760\n",
      "Epoch 5/30\n",
      "11324/11324 [==============================] - 207s 18ms/step - loss: 0.0124 - accuracy: 0.9966 - val_loss: 0.1010 - val_accuracy: 0.9795\n",
      "Epoch 6/30\n",
      "11324/11324 [==============================] - 209s 18ms/step - loss: 0.0098 - accuracy: 0.9972 - val_loss: 0.1134 - val_accuracy: 0.9821\n",
      "Epoch 7/30\n",
      "11324/11324 [==============================] - 206s 18ms/step - loss: 0.0087 - accuracy: 0.9974 - val_loss: 0.1056 - val_accuracy: 0.9826\n",
      "Epoch 8/30\n",
      "11324/11324 [==============================] - 207s 18ms/step - loss: 0.0079 - accuracy: 0.9978 - val_loss: 0.1261 - val_accuracy: 0.9808\n",
      "Epoch 9/30\n",
      "11324/11324 [==============================] - 222s 20ms/step - loss: 0.0071 - accuracy: 0.9979 - val_loss: 0.1220 - val_accuracy: 0.9833\n",
      "Epoch 10/30\n",
      "11324/11324 [==============================] - 205s 18ms/step - loss: 0.0066 - accuracy: 0.9981 - val_loss: 0.1193 - val_accuracy: 0.9842\n",
      "685/685 [==============================] - 3s 5ms/step\n",
      "Normalized confusion matrix\n"
     ]
    },
    {
     "data": {
      "image/png": "[encoded data removed]",
      "text/plain": [
       "<Figure size 720x720 with 2 Axes>"
      ]
     },
     "metadata": {
      "needs_background": "light"
     },
     "output_type": "display_data"
    }
   ],
   "source": [
    "X_train, y_train = transform(X_km, y_km)\n",
    "y_pred_km = evaluate(X_train, y_train, X_test,y_test,'km')"
   ]
  },
  {
   "cell_type": "code",
   "execution_count": null,
   "metadata": {},
   "outputs": [],
   "source": []
  },
  {
   "cell_type": "markdown",
   "metadata": {},
   "source": [
    "##### ADASYN Result"
   ]
  },
  {
   "cell_type": "code",
   "execution_count": 37,
   "metadata": {},
   "outputs": [
    {
     "name": "stdout",
     "output_type": "stream",
     "text": [
      "Epoch 1/30\n",
      "11321/11321 [==============================] - 198s 17ms/step - loss: 0.1187 - accuracy: 0.9577 - val_loss: 0.1813 - val_accuracy: 0.9506\n",
      "Epoch 2/30\n",
      "11321/11321 [==============================] - 203s 18ms/step - loss: 0.0354 - accuracy: 0.9887 - val_loss: 0.1435 - val_accuracy: 0.9692\n",
      "Epoch 3/30\n",
      "11321/11321 [==============================] - 211s 19ms/step - loss: 0.0229 - accuracy: 0.9931 - val_loss: 0.1231 - val_accuracy: 0.9793\n",
      "Epoch 4/30\n",
      "11321/11321 [==============================] - 215s 19ms/step - loss: 0.0175 - accuracy: 0.9946 - val_loss: 0.1349 - val_accuracy: 0.9746\n",
      "Epoch 5/30\n",
      "11321/11321 [==============================] - 215s 19ms/step - loss: 0.0136 - accuracy: 0.9959 - val_loss: 0.1377 - val_accuracy: 0.9779\n",
      "Epoch 6/30\n",
      "11321/11321 [==============================] - 220s 19ms/step - loss: 0.0119 - accuracy: 0.9966 - val_loss: 0.1357 - val_accuracy: 0.9819\n",
      "Epoch 7/30\n",
      "11321/11321 [==============================] - 1843s 163ms/step - loss: 0.0101 - accuracy: 0.9970 - val_loss: 0.1489 - val_accuracy: 0.9783\n",
      "Epoch 8/30\n",
      "11321/11321 [==============================] - 215s 19ms/step - loss: 0.0089 - accuracy: 0.9973 - val_loss: 0.1438 - val_accuracy: 0.9818\n",
      "Epoch 9/30\n",
      "11321/11321 [==============================] - 221s 20ms/step - loss: 0.0078 - accuracy: 0.9977 - val_loss: 0.1433 - val_accuracy: 0.9841\n",
      "Epoch 10/30\n",
      "11321/11321 [==============================] - 222s 20ms/step - loss: 0.0075 - accuracy: 0.9979 - val_loss: 0.1500 - val_accuracy: 0.9836\n",
      "Epoch 11/30\n",
      "11321/11321 [==============================] - 224s 20ms/step - loss: 0.0068 - accuracy: 0.9980 - val_loss: 0.1541 - val_accuracy: 0.9838\n",
      "685/685 [==============================] - 3s 5ms/step\n",
      "Normalized confusion matrix\n"
     ]
    },
    {
     "data": {
      "image/png": "[encoded data removed]",
      "text/plain": [
       "<Figure size 720x720 with 2 Axes>"
      ]
     },
     "metadata": {
      "needs_background": "light"
     },
     "output_type": "display_data"
    }
   ],
   "source": [
    "X_train, y_train = transform(X_ada, y_ada)\n",
    "y_pred_ada = evaluate(X_train, y_train, X_test,y_test,'ada')"
   ]
  },
  {
   "cell_type": "code",
   "execution_count": null,
   "metadata": {},
   "outputs": [],
   "source": []
  },
  {
   "cell_type": "code",
   "execution_count": 47,
   "metadata": {},
   "outputs": [],
   "source": [
    "def summary(prediction, cls):\n",
    "    result = prediction.argmax(axis=1)\n",
    "\n",
    "    print(\"precision for group \",cls,\": \", precision(cls,result))\n",
    "    print(\"recall for group \",cls,\": \", recall(cls,result))\n",
    "    print(\"f_measure for group \",cls,\": \", F_measure(cls,result))\n",
    "    print(\"g_mean for group \",cls,\": \", G_mean(cls,result))\n",
    "    print('\\n')\n",
    "    \n",
    "    return"
   ]
  },
  {
   "cell_type": "code",
   "execution_count": 95,
   "metadata": {
    "scrolled": true
   },
   "outputs": [],
   "source": [
    "# All Results in One\n",
    "preds = {'original':y_pred_np,'random upsample':y_pred_up,\n",
    "         'smote':y_pred_sm,'borderline smote':y_pred_bord,\n",
    "         'kmeans smote':y_pred_km,'adasyn':y_pred_ada}"
   ]
  },
  {
   "cell_type": "code",
   "execution_count": 158,
   "metadata": {},
   "outputs": [],
   "source": [
    "def gen_table(preds, metric_list=[precision, recall, F_measure,G_mean], cls_list=None):\n",
    "    key_list = cls_list\n",
    "    df_list = []\n",
    "    for cls in cls_list:\n",
    "        df = gen_comp_table(preds,metric_list, cls)\n",
    "        df_list.append(df)\n",
    "    \n",
    "    res = pd.concat(df_list, axis=1, keys=key_list)\n",
    "    return res"
   ]
  },
  {
   "cell_type": "code",
   "execution_count": null,
   "metadata": {},
   "outputs": [],
   "source": []
  },
  {
   "cell_type": "code",
   "execution_count": 163,
   "metadata": {},
   "outputs": [],
   "source": [
    "def gen_cls_table(preds,metric_list=[precision, recall, F_measure,G_mean],cls=None): # cls = 0, 1, .. integer value. \n",
    "    index_list = []\n",
    "    data_list = []\n",
    "    \n",
    "    for m in metric_list:\n",
    "        i,d = gen_comp_row(preds,m,cls)\n",
    "        index_list.append(i)\n",
    "        data_list.append(d)\n",
    "\n",
    "    df = pd.DataFrame(data_list, index=index_list)\n",
    "    \n",
    "    return df"
   ]
  },
  {
   "cell_type": "code",
   "execution_count": 168,
   "metadata": {},
   "outputs": [],
   "source": [
    "def gen_overall_table(preds,metric_list=[mGM,AvAccu,CBA]): # cls = 0, 1, .. integer value. \n",
    "    index_list = []\n",
    "    data_list = []\n",
    "    \n",
    "    for m in metric_list:\n",
    "        i,d = gen_comp_row(preds,m)\n",
    "        index_list.append(i)\n",
    "        data_list.append(d)\n",
    "\n",
    "    df = pd.DataFrame(data_list, index=index_list)\n",
    "    \n",
    "    return df"
   ]
  },
  {
   "cell_type": "code",
   "execution_count": 165,
   "metadata": {},
   "outputs": [],
   "source": [
    "def gen_comp_row(preds,metric,cls=None):\n",
    "    index = metric.__name__\n",
    "    columns = [p for p in preds]\n",
    "    predictions = [preds[p] for p in preds]\n",
    "    tmp = []\n",
    "    \n",
    "    if cls:\n",
    "        for p in predictions: \n",
    "            tmp.append(metric(cls, p.argmax(axis=1)))\n",
    "    else:\n",
    "        for p in predictions: \n",
    "            tmp.append(metric(p.argmax(axis=1)))\n",
    "\n",
    "    data = dict(zip(columns, tmp))\n",
    "    return index, data"
   ]
  },
  {
   "cell_type": "code",
   "execution_count": 169,
   "metadata": {},
   "outputs": [
    {
     "data": {
      "text/html": [
       "<div>\n",
       "<style scoped>\n",
       "    .dataframe tbody tr th:only-of-type {\n",
       "        vertical-align: middle;\n",
       "    }\n",
       "\n",
       "    .dataframe tbody tr th {\n",
       "        vertical-align: top;\n",
       "    }\n",
       "\n",
       "    .dataframe thead th {\n",
       "        text-align: right;\n",
       "    }\n",
       "</style>\n",
       "<table border=\"1\" class=\"dataframe\">\n",
       "  <thead>\n",
       "    <tr style=\"text-align: right;\">\n",
       "      <th></th>\n",
       "      <th>original</th>\n",
       "      <th>random upsample</th>\n",
       "      <th>smote</th>\n",
       "      <th>borderline smote</th>\n",
       "      <th>kmeans smote</th>\n",
       "      <th>adasyn</th>\n",
       "    </tr>\n",
       "  </thead>\n",
       "  <tbody>\n",
       "    <tr>\n",
       "      <th>mGM</th>\n",
       "      <td>0.860539</td>\n",
       "      <td>0.925042</td>\n",
       "      <td>0.918755</td>\n",
       "      <td>0.908087</td>\n",
       "      <td>0.901579</td>\n",
       "      <td>0.891383</td>\n",
       "    </tr>\n",
       "    <tr>\n",
       "      <th>AvAccu</th>\n",
       "      <td>0.944175</td>\n",
       "      <td>0.872359</td>\n",
       "      <td>0.907294</td>\n",
       "      <td>0.869446</td>\n",
       "      <td>0.885986</td>\n",
       "      <td>0.893443</td>\n",
       "    </tr>\n",
       "    <tr>\n",
       "      <th>CBA</th>\n",
       "      <td>33.146745</td>\n",
       "      <td>29.988534</td>\n",
       "      <td>41.954558</td>\n",
       "      <td>29.997623</td>\n",
       "      <td>30.429750</td>\n",
       "      <td>29.722202</td>\n",
       "    </tr>\n",
       "  </tbody>\n",
       "</table>\n",
       "</div>"
      ],
      "text/plain": [
       "         original  random upsample      smote  borderline smote  kmeans smote  \\\n",
       "mGM      0.860539         0.925042   0.918755          0.908087      0.901579   \n",
       "AvAccu   0.944175         0.872359   0.907294          0.869446      0.885986   \n",
       "CBA     33.146745        29.988534  41.954558         29.997623     30.429750   \n",
       "\n",
       "           adasyn  \n",
       "mGM      0.891383  \n",
       "AvAccu   0.893443  \n",
       "CBA     29.722202  "
      ]
     },
     "execution_count": 169,
     "metadata": {},
     "output_type": "execute_result"
    }
   ],
   "source": [
    "gen_overall_table(preds)"
   ]
  },
  {
   "cell_type": "code",
   "execution_count": null,
   "metadata": {},
   "outputs": [],
   "source": []
  },
  {
   "cell_type": "code",
   "execution_count": null,
   "metadata": {},
   "outputs": [],
   "source": []
  },
  {
   "cell_type": "code",
   "execution_count": 101,
   "metadata": {},
   "outputs": [
    {
     "data": {
      "text/html": [
       "<div>\n",
       "<style scoped>\n",
       "    .dataframe tbody tr th:only-of-type {\n",
       "        vertical-align: middle;\n",
       "    }\n",
       "\n",
       "    .dataframe tbody tr th {\n",
       "        vertical-align: top;\n",
       "    }\n",
       "\n",
       "    .dataframe thead tr th {\n",
       "        text-align: left;\n",
       "    }\n",
       "</style>\n",
       "<table border=\"1\" class=\"dataframe\">\n",
       "  <thead>\n",
       "    <tr>\n",
       "      <th></th>\n",
       "      <th colspan=\"2\" halign=\"left\">adasyn</th>\n",
       "      <th colspan=\"2\" halign=\"left\">borderline smote</th>\n",
       "      <th colspan=\"2\" halign=\"left\">kmeans smote</th>\n",
       "      <th colspan=\"2\" halign=\"left\">original</th>\n",
       "      <th colspan=\"2\" halign=\"left\">random upsample</th>\n",
       "      <th colspan=\"2\" halign=\"left\">smote</th>\n",
       "    </tr>\n",
       "    <tr>\n",
       "      <th></th>\n",
       "      <th>1</th>\n",
       "      <th>3</th>\n",
       "      <th>1</th>\n",
       "      <th>3</th>\n",
       "      <th>1</th>\n",
       "      <th>3</th>\n",
       "      <th>1</th>\n",
       "      <th>3</th>\n",
       "      <th>1</th>\n",
       "      <th>3</th>\n",
       "      <th>1</th>\n",
       "      <th>3</th>\n",
       "    </tr>\n",
       "  </thead>\n",
       "  <tbody>\n",
       "    <tr>\n",
       "      <th>recall</th>\n",
       "      <td>0.809353</td>\n",
       "      <td>0.753086</td>\n",
       "      <td>0.838129</td>\n",
       "      <td>0.796296</td>\n",
       "      <td>0.820144</td>\n",
       "      <td>0.790123</td>\n",
       "      <td>0.767986</td>\n",
       "      <td>0.660494</td>\n",
       "      <td>0.859712</td>\n",
       "      <td>0.858025</td>\n",
       "      <td>0.834532</td>\n",
       "      <td>0.845679</td>\n",
       "    </tr>\n",
       "    <tr>\n",
       "      <th>precision</th>\n",
       "      <td>0.738916</td>\n",
       "      <td>0.792208</td>\n",
       "      <td>0.755267</td>\n",
       "      <td>0.664948</td>\n",
       "      <td>0.737864</td>\n",
       "      <td>0.761905</td>\n",
       "      <td>0.928261</td>\n",
       "      <td>0.849206</td>\n",
       "      <td>0.687770</td>\n",
       "      <td>0.739362</td>\n",
       "      <td>0.818342</td>\n",
       "      <td>0.769663</td>\n",
       "    </tr>\n",
       "    <tr>\n",
       "      <th>F_measure</th>\n",
       "      <td>0.772532</td>\n",
       "      <td>0.772152</td>\n",
       "      <td>0.794544</td>\n",
       "      <td>0.724719</td>\n",
       "      <td>0.776831</td>\n",
       "      <td>0.775758</td>\n",
       "      <td>0.840551</td>\n",
       "      <td>0.743056</td>\n",
       "      <td>0.764189</td>\n",
       "      <td>0.794286</td>\n",
       "      <td>0.826358</td>\n",
       "      <td>0.805882</td>\n",
       "    </tr>\n",
       "    <tr>\n",
       "      <th>G_mean</th>\n",
       "      <td>0.896252</td>\n",
       "      <td>0.867155</td>\n",
       "      <td>0.912216</td>\n",
       "      <td>0.890996</td>\n",
       "      <td>0.902139</td>\n",
       "      <td>0.888055</td>\n",
       "      <td>0.875664</td>\n",
       "      <td>0.812348</td>\n",
       "      <td>0.922438</td>\n",
       "      <td>0.925231</td>\n",
       "      <td>0.911302</td>\n",
       "      <td>0.918728</td>\n",
       "    </tr>\n",
       "  </tbody>\n",
       "</table>\n",
       "</div>"
      ],
      "text/plain": [
       "             adasyn           borderline smote           kmeans smote  \\\n",
       "                  1         3                1         3            1   \n",
       "recall     0.809353  0.753086         0.838129  0.796296     0.820144   \n",
       "precision  0.738916  0.792208         0.755267  0.664948     0.737864   \n",
       "F_measure  0.772532  0.772152         0.794544  0.724719     0.776831   \n",
       "G_mean     0.896252  0.867155         0.912216  0.890996     0.902139   \n",
       "\n",
       "                     original           random upsample               smote  \\\n",
       "                  3         1         3               1         3         1   \n",
       "recall     0.790123  0.767986  0.660494        0.859712  0.858025  0.834532   \n",
       "precision  0.761905  0.928261  0.849206        0.687770  0.739362  0.818342   \n",
       "F_measure  0.775758  0.840551  0.743056        0.764189  0.794286  0.826358   \n",
       "G_mean     0.888055  0.875664  0.812348        0.922438  0.925231  0.911302   \n",
       "\n",
       "                     \n",
       "                  3  \n",
       "recall     0.845679  \n",
       "precision  0.769663  \n",
       "F_measure  0.805882  \n",
       "G_mean     0.918728  "
      ]
     },
     "execution_count": 101,
     "metadata": {},
     "output_type": "execute_result"
    }
   ],
   "source": [
    "df.swaplevel(0, 1, axis=1).sort_index(axis=1)"
   ]
  },
  {
   "cell_type": "code",
   "execution_count": null,
   "metadata": {},
   "outputs": [],
   "source": []
  }
 ],
 "metadata": {
  "kernelspec": {
   "display_name": "Python 3",
   "language": "python",
   "name": "python3"
  }
 },
 "nbformat": 4,
 "nbformat_minor": 4
}
