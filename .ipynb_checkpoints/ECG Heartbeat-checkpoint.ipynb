{
 "cells": [
  {
   "cell_type": "code",
   "execution_count": 1,
   "metadata": {},
   "outputs": [],
   "source": [
    "import pandas as pd\n",
    "import numpy as np\n",
    "import itertools\n",
    "import matplotlib.pyplot as plt\n",
    "\n",
    "from sklearn.utils import resample\n",
    "from imblearn.over_sampling import SMOTE, BorderlineSMOTE, KMeansSMOTE, ADASYN\n",
    "from imblearn.combine import SMOTETomek\n",
    "import smote_variants as sv\n",
    "\n",
    "from keras.utils.np_utils import to_categorical\n",
    "from sklearn.ensemble import RandomForestClassifier\n",
    "from sklearn.neighbors import KNeighborsClassifier\n",
    "from sklearn.svm import SVC\n",
    "from keras.layers import Dense, Convolution1D, MaxPool1D, Flatten, Dropout, Input, BatchNormalization\n",
    "from keras.models import Model\n",
    "from keras.callbacks import EarlyStopping, ModelCheckpoint\n",
    "from sklearn.metrics import confusion_matrix, balanced_accuracy_score, cohen_kappa_score, matthews_corrcoef"
   ]
  },
  {
   "cell_type": "markdown",
   "metadata": {},
   "source": [
    "### Load Data"
   ]
  },
  {
   "cell_type": "code",
   "execution_count": 2,
   "metadata": {},
   "outputs": [],
   "source": [
    "train_df = pd.read_csv('mitbih_train.csv',header=None)\n",
    "test_df = pd.read_csv('mitbih_test.csv',header=None)\n",
    "\n",
    "X, y = train_df.iloc[:,:-1].values, train_df.iloc[:,-1].values"
   ]
  },
  {
   "cell_type": "code",
   "execution_count": 3,
   "metadata": {
    "scrolled": false
   },
   "outputs": [
    {
     "name": "stdout",
     "output_type": "stream",
     "text": [
      "0    72471\n",
      "4     6431\n",
      "2     5788\n",
      "1     2223\n",
      "3      641\n",
      "Name: 187, dtype: int64\n"
     ]
    }
   ],
   "source": [
    "train_df[187]=train_df[187].astype(int)\n",
    "overview=train_df[187].value_counts()\n",
    "print(overview)"
   ]
  },
  {
   "cell_type": "code",
   "execution_count": 4,
   "metadata": {},
   "outputs": [
    {
     "data": {
      "image/png": "[encoded data removed]",
      "text/plain": [
       "<Figure size 720x360 with 1 Axes>"
      ]
     },
     "metadata": {},
     "output_type": "display_data"
    }
   ],
   "source": [
    "original=train_df[187].value_counts()\n",
    "plt.figure(figsize=(10,5))\n",
    "my_circle=plt.Circle( (0,0), 0.7, color='white')\n",
    "plt.pie(original, labels=['n','q','v','s','f'], colors=['red','green','blue','skyblue','orange'],autopct='%1.1f%%')\n",
    "p=plt.gcf()\n",
    "p.gca().add_artist(my_circle)\n",
    "plt.show()"
   ]
  },
  {
   "cell_type": "code",
   "execution_count": null,
   "metadata": {},
   "outputs": [],
   "source": []
  },
  {
   "cell_type": "markdown",
   "metadata": {},
   "source": [
    "### Oversampling"
   ]
  },
  {
   "cell_type": "code",
   "execution_count": 6,
   "metadata": {},
   "outputs": [],
   "source": [
    "n_samples = max(overview)\n",
    "df_0=train_df[train_df[187]==0]\n",
    "df_1=train_df[train_df[187]==1]\n",
    "df_2=train_df[train_df[187]==2]\n",
    "df_3=train_df[train_df[187]==3]\n",
    "df_4=train_df[train_df[187]==4]"
   ]
  },
  {
   "cell_type": "markdown",
   "metadata": {},
   "source": [
    "#### Random Upsampling"
   ]
  },
  {
   "cell_type": "code",
   "execution_count": 7,
   "metadata": {},
   "outputs": [],
   "source": [
    "df_1_upsample=resample(df_1,replace=True,n_samples=n_samples,random_state=123)\n",
    "df_2_upsample=resample(df_2,replace=True,n_samples=n_samples,random_state=124)\n",
    "df_3_upsample=resample(df_3,replace=True,n_samples=n_samples,random_state=125)\n",
    "df_4_upsample=resample(df_4,replace=True,n_samples=n_samples,random_state=126)\n",
    "train_up=pd.concat([df_0,df_1_upsample,df_2_upsample,df_3_upsample,df_4_upsample])\n",
    "X_up, y_up = train_up.iloc[:,:-1].values, train_up.iloc[:,-1].values"
   ]
  },
  {
   "cell_type": "markdown",
   "metadata": {},
   "source": [
    "#### SMOTE variations"
   ]
  },
  {
   "cell_type": "code",
   "execution_count": 8,
   "metadata": {},
   "outputs": [],
   "source": [
    "def oversample(func, df, cluster_balance_threshold=None):\n",
    "    if cluster_balance_threshold:\n",
    "        method = func(cluster_balance_threshold=cluster_balance_threshold)\n",
    "    else:\n",
    "        method = func()\n",
    "    X = df.iloc[:,:-1].values\n",
    "    y = df.iloc[:,-1].values\n",
    "    X, y = method.fit_resample(X,y)\n",
    "    return X, y"
   ]
  },
  {
   "cell_type": "code",
   "execution_count": 217,
   "metadata": {},
   "outputs": [],
   "source": [
    "X_smote, y_smote = oversample(SMOTE, train_df)\n",
    "X_bord, y_bord = oversample(BorderlineSMOTE, train_df)\n",
    "X_ada, y_ada = oversample(ADASYN, train_df)"
   ]
  },
  {
   "cell_type": "markdown",
   "metadata": {},
   "source": [
    "#### More Oversampling Methods"
   ]
  },
  {
   "cell_type": "code",
   "execution_count": 135,
   "metadata": {
    "scrolled": false
   },
   "outputs": [
    {
     "name": "stderr",
     "output_type": "stream",
     "text": [
      "2022-08-10 03:02:41,911:INFO:MulticlassOversampling: Running multiclass oversampling with strategy eq_1_vs_many_successive\n",
      "2022-08-10 03:02:42,538:INFO:MulticlassOversampling: Sampling minority class with label: 4\n",
      "2022-08-10 03:02:42,638:INFO:polynom_fit_SMOTE: Running sampling via ('polynom_fit_SMOTE', \"{'proportion': 1.0, 'topology': 'star', 'random_state': None}\")\n",
      "2022-08-10 03:02:43,388:INFO:MulticlassOversampling: Sampling minority class with label: 2\n",
      "2022-08-10 03:02:43,542:INFO:polynom_fit_SMOTE: Running sampling via ('polynom_fit_SMOTE', \"{'proportion': 0.4792028975092344, 'topology': 'star', 'random_state': None}\")\n",
      "2022-08-10 03:02:44,244:INFO:MulticlassOversampling: Sampling minority class with label: 1\n",
      "2022-08-10 03:02:44,444:INFO:polynom_fit_SMOTE: Running sampling via ('polynom_fit_SMOTE', \"{'proportion': 0.32644639620800225, 'topology': 'star', 'random_state': None}\")\n",
      "2022-08-10 03:02:45,355:INFO:MulticlassOversampling: Sampling minority class with label: 3\n",
      "2022-08-10 03:02:45,615:INFO:polynom_fit_SMOTE: Running sampling via ('polynom_fit_SMOTE', \"{'proportion': 0.24833790273230466, 'topology': 'star', 'random_state': None}\")\n"
     ]
    }
   ],
   "source": [
    "X_tom, y_tom = oversample(SMOTETomek, train_df)\n",
    "\n",
    "os = sv.MulticlassOversampling(sv.ProWSyn())\n",
    "X_pro, y_pro = os.sample(X,y)"
   ]
  },
  {
   "cell_type": "markdown",
   "metadata": {},
   "source": [
    "### Classification Models"
   ]
  },
  {
   "cell_type": "code",
   "execution_count": 16,
   "metadata": {},
   "outputs": [],
   "source": [
    "def transform(X,y):\n",
    "    X = X.reshape(X.shape[0], X.shape[1], 1)\n",
    "    y = to_categorical(y)\n",
    "    return X, y"
   ]
  },
  {
   "cell_type": "markdown",
   "metadata": {
    "collapsed": true
   },
   "source": [
    "### CNN\n",
    "reference: https://www.kaggle.com/code/gregoiredc/arrhythmia-on-ecg-classification-using-cnn"
   ]
  },
  {
   "cell_type": "code",
   "execution_count": 129,
   "metadata": {},
   "outputs": [],
   "source": [
    "def network(X_train,y_train,X_test,y_test,n_epochs=10,os='np'):\n",
    "    \n",
    "    im_shape=(X_train.shape[1],1)\n",
    "    inputs_cnn=Input(shape=(im_shape), name='inputs_cnn')\n",
    "    \n",
    "    conv1_1=Convolution1D(64, (6), activation='relu', input_shape=im_shape)(inputs_cnn)\n",
    "    conv1_1=BatchNormalization()(conv1_1)\n",
    "    pool1=MaxPool1D(pool_size=(3), strides=(2), padding=\"same\")(conv1_1)\n",
    "    \n",
    "    conv2_1=Convolution1D(64, (3), activation='relu', input_shape=im_shape)(pool1)\n",
    "    conv2_1=BatchNormalization()(conv2_1)\n",
    "    pool2=MaxPool1D(pool_size=(2), strides=(2), padding=\"same\")(conv2_1)\n",
    "    \n",
    "    conv3_1=Convolution1D(64, (3), activation='relu', input_shape=im_shape)(pool2)\n",
    "    conv3_1=BatchNormalization()(conv3_1)\n",
    "    pool3=MaxPool1D(pool_size=(2), strides=(2), padding=\"same\")(conv3_1)\n",
    "    \n",
    "    flatten=Flatten()(pool3)\n",
    "    dense_end1 = Dense(64, activation='relu')(flatten)\n",
    "    dense_end2 = Dense(32, activation='relu')(dense_end1)\n",
    "    main_output = Dense(5, activation='softmax', name='main_output')(dense_end2)\n",
    "    \n",
    "    model = Model(inputs= inputs_cnn, outputs=main_output)\n",
    "    model.compile(optimizer='adam', loss='categorical_crossentropy',metrics = ['accuracy'])\n",
    "    \n",
    "    callbacks = [EarlyStopping(monitor='val_loss', patience=3),\n",
    "                 ModelCheckpoint(filepath=f'{os}.h5', monitor='val_loss', save_best_only=True)]\n",
    "\n",
    "    history = model.fit(X_train, y_train, epochs=n_epochs, callbacks=callbacks, \n",
    "                      batch_size=32,validation_data=(X_test,y_test))\n",
    "    \n",
    "    model.load_weights(f'{os}.h5')\n",
    "    \n",
    "    return (model,history)"
   ]
  },
  {
   "cell_type": "markdown",
   "metadata": {},
   "source": [
    "#### Confusion Matrix \n",
    "reference: https://www.kaggle.com/coni57/model-from-arxiv-1805-00794\n"
   ]
  },
  {
   "cell_type": "code",
   "execution_count": 121,
   "metadata": {},
   "outputs": [],
   "source": [
    "def plot_confusion_matrix(cm, classes,\n",
    "                          normalize=False,\n",
    "                          title='Confusion matrix',\n",
    "                          cmap=plt.cm.Blues):\n",
    "    \"\"\"    \n",
    "    This function prints and plots the confusion matrix.\n",
    "    Normalization can be applied by setting `normalize=True`.\n",
    "    \"\"\"\n",
    "    if normalize:\n",
    "        cm = cm.astype('float') / cm.sum(axis=1)[:, np.newaxis]\n",
    "        print(\"Normalized confusion matrix\")\n",
    "    else:\n",
    "        print('Confusion matrix, without normalization')\n",
    "\n",
    "    plt.imshow(cm, interpolation='nearest', cmap=cmap)\n",
    "    plt.title(title)\n",
    "    plt.colorbar()\n",
    "    tick_marks = np.arange(len(classes))\n",
    "    plt.xticks(tick_marks, classes, rotation=45)\n",
    "    plt.yticks(tick_marks, classes)\n",
    "\n",
    "    fmt = '.2f' if normalize else 'd'\n",
    "    thresh = cm.max() / 2.\n",
    "    for i, j in itertools.product(range(cm.shape[0]), range(cm.shape[1])):\n",
    "        plt.text(j, i, format(cm[i, j], fmt),\n",
    "                 horizontalalignment=\"center\",\n",
    "                 color=\"white\" if cm[i, j] > thresh else \"black\")\n",
    "\n",
    "    plt.tight_layout()\n",
    "    plt.ylabel('True label')\n",
    "    plt.xlabel('Predicted label')"
   ]
  },
  {
   "cell_type": "code",
   "execution_count": 122,
   "metadata": {},
   "outputs": [],
   "source": [
    "def evaluate(X_train, y_train, X_test, y_test, n_epochs=10, os='np'):\n",
    "    model, _ = network(X_train, y_train, X_test, y_test, n_epochs = n_epochs, os=os)\n",
    "    y_pred = model.predict(X_test)\n",
    "    # Compute confusion matrix\n",
    "    cnf_matrix = confusion_matrix(y_test.argmax(axis=1), y_pred.argmax(axis=1))\n",
    "    np.set_printoptions(precision=2)\n",
    "\n",
    "    # Plot non-normalized confusion matrix\n",
    "    plt.figure(figsize=(6,6))\n",
    "    plot_confusion_matrix(cnf_matrix, classes=['N', 'S', 'V', 'F', 'Q'],normalize=True,\n",
    "                          title='Confusion matrix, with normalization')\n",
    "    plt.show()\n",
    "    \n",
    "    return y_pred"
   ]
  },
  {
   "cell_type": "code",
   "execution_count": 124,
   "metadata": {},
   "outputs": [],
   "source": [
    "X_test_cnn, y_test_cnn = transform(test_df.iloc[:,:-1].values, test_df.iloc[:,-1].values)"
   ]
  },
  {
   "cell_type": "markdown",
   "metadata": {},
   "source": [
    "##### Non-processed "
   ]
  },
  {
   "cell_type": "code",
   "execution_count": 126,
   "metadata": {
    "scrolled": false
   },
   "outputs": [
    {
     "name": "stdout",
     "output_type": "stream",
     "text": [
      "Epoch 1/10\n",
      "2737/2737 [==============================] - 51s 18ms/step - loss: 0.1297 - accuracy: 0.9639 - val_loss: 0.1167 - val_accuracy: 0.9693\n",
      "Epoch 2/10\n",
      "2737/2737 [==============================] - 49s 18ms/step - loss: 0.0721 - accuracy: 0.9792 - val_loss: 0.0845 - val_accuracy: 0.9770\n",
      "Epoch 3/10\n",
      "2737/2737 [==============================] - 45s 17ms/step - loss: 0.0574 - accuracy: 0.9827 - val_loss: 0.0891 - val_accuracy: 0.9770\n",
      "Epoch 4/10\n",
      "2737/2737 [==============================] - 49s 18ms/step - loss: 0.0482 - accuracy: 0.9856 - val_loss: 0.0752 - val_accuracy: 0.9804\n",
      "Epoch 5/10\n",
      "2737/2737 [==============================] - 48s 17ms/step - loss: 0.0396 - accuracy: 0.9873 - val_loss: 0.0894 - val_accuracy: 0.9757\n",
      "Epoch 6/10\n",
      "2737/2737 [==============================] - 48s 18ms/step - loss: 0.0343 - accuracy: 0.9896 - val_loss: 0.0747 - val_accuracy: 0.9794\n",
      "Epoch 7/10\n",
      "2737/2737 [==============================] - 50s 18ms/step - loss: 0.0296 - accuracy: 0.9906 - val_loss: 0.0722 - val_accuracy: 0.9830\n",
      "Epoch 8/10\n",
      "2737/2737 [==============================] - 51s 19ms/step - loss: 0.0269 - accuracy: 0.9912 - val_loss: 0.0765 - val_accuracy: 0.9821\n",
      "Epoch 9/10\n",
      "2737/2737 [==============================] - 50s 18ms/step - loss: 0.0246 - accuracy: 0.9921 - val_loss: 0.0744 - val_accuracy: 0.9835\n",
      "Epoch 10/10\n",
      "2737/2737 [==============================] - 53s 20ms/step - loss: 0.0215 - accuracy: 0.9928 - val_loss: 0.0751 - val_accuracy: 0.9832\n",
      "685/685 [==============================] - 3s 5ms/step\n",
      "Normalized confusion matrix\n"
     ]
    },
    {
     "data": {
      "image/png": "[encoded data removed]",
      "text/plain": [
       "<Figure size 432x432 with 2 Axes>"
      ]
     },
     "metadata": {
      "needs_background": "light"
     },
     "output_type": "display_data"
    }
   ],
   "source": [
    "X_train, y_train = transform(X,y)\n",
    "y_pred_np = evaluate(X_train,y_train,X_test_cnn, y_test_cnn)"
   ]
  },
  {
   "cell_type": "markdown",
   "metadata": {},
   "source": [
    "##### Random Upsample "
   ]
  },
  {
   "cell_type": "code",
   "execution_count": 127,
   "metadata": {},
   "outputs": [
    {
     "name": "stdout",
     "output_type": "stream",
     "text": [
      "Epoch 1/10\n",
      "11324/11324 [==============================] - 204s 18ms/step - loss: 0.0927 - accuracy: 0.9679 - val_loss: 0.1161 - val_accuracy: 0.9672\n",
      "Epoch 2/10\n",
      "11324/11324 [==============================] - 210s 19ms/step - loss: 0.0295 - accuracy: 0.9908 - val_loss: 0.1117 - val_accuracy: 0.9754\n",
      "Epoch 3/10\n",
      "11324/11324 [==============================] - 199s 18ms/step - loss: 0.0191 - accuracy: 0.9941 - val_loss: 0.1111 - val_accuracy: 0.9813\n",
      "Epoch 4/10\n",
      "11324/11324 [==============================] - 207s 18ms/step - loss: 0.0141 - accuracy: 0.9957 - val_loss: 0.1142 - val_accuracy: 0.9826\n",
      "Epoch 5/10\n",
      "11324/11324 [==============================] - 198s 18ms/step - loss: 0.0116 - accuracy: 0.9965 - val_loss: 0.1354 - val_accuracy: 0.9789\n",
      "Epoch 6/10\n",
      "11324/11324 [==============================] - 194s 17ms/step - loss: 0.0099 - accuracy: 0.9972 - val_loss: 0.1356 - val_accuracy: 0.9828\n",
      "Epoch 7/10\n",
      "11324/11324 [==============================] - 204s 18ms/step - loss: 0.0082 - accuracy: 0.9976 - val_loss: 0.1395 - val_accuracy: 0.9810\n",
      "Epoch 8/10\n",
      "11324/11324 [==============================] - 202s 18ms/step - loss: 0.0072 - accuracy: 0.9980 - val_loss: 0.1485 - val_accuracy: 0.9813\n",
      "Epoch 9/10\n",
      "11324/11324 [==============================] - 209s 18ms/step - loss: 0.0066 - accuracy: 0.9982 - val_loss: 0.1522 - val_accuracy: 0.9822\n",
      "Epoch 10/10\n",
      "11324/11324 [==============================] - 203s 18ms/step - loss: 0.0063 - accuracy: 0.9983 - val_loss: 0.1506 - val_accuracy: 0.9847\n",
      "685/685 [==============================] - 4s 5ms/step\n",
      "Normalized confusion matrix\n"
     ]
    },
    {
     "data": {
      "image/png": "[encoded data removed]",
      "text/plain": [
       "<Figure size 432x432 with 2 Axes>"
      ]
     },
     "metadata": {
      "needs_background": "light"
     },
     "output_type": "display_data"
    }
   ],
   "source": [
    "X_train, y_train = transform(X_up, y_up)\n",
    "y_pred_up = evaluate(X_train, y_train, X_test_cnn,y_test_cnn,os='up')"
   ]
  },
  {
   "cell_type": "markdown",
   "metadata": {},
   "source": [
    "##### SMOTE "
   ]
  },
  {
   "cell_type": "code",
   "execution_count": 130,
   "metadata": {},
   "outputs": [
    {
     "name": "stdout",
     "output_type": "stream",
     "text": [
      "Epoch 1/10\n",
      "11324/11324 [==============================] - 189s 17ms/step - loss: 0.0913 - accuracy: 0.9684 - val_loss: 0.1028 - val_accuracy: 0.9718\n",
      "Epoch 2/10\n",
      "11324/11324 [==============================] - 197s 17ms/step - loss: 0.0327 - accuracy: 0.9894 - val_loss: 0.1126 - val_accuracy: 0.9708\n",
      "Epoch 3/10\n",
      "11324/11324 [==============================] - 209s 18ms/step - loss: 0.0222 - accuracy: 0.9929 - val_loss: 0.0904 - val_accuracy: 0.9829\n",
      "Epoch 4/10\n",
      "11324/11324 [==============================] - 244s 22ms/step - loss: 0.0170 - accuracy: 0.9947 - val_loss: 0.1283 - val_accuracy: 0.9745\n",
      "Epoch 5/10\n",
      "11324/11324 [==============================] - 185s 16ms/step - loss: 0.0139 - accuracy: 0.9957 - val_loss: 0.1197 - val_accuracy: 0.9767\n",
      "Epoch 6/10\n",
      "11324/11324 [==============================] - 182s 16ms/step - loss: 0.0119 - accuracy: 0.9963 - val_loss: 0.1335 - val_accuracy: 0.9796\n",
      "685/685 [==============================] - 3s 4ms/step\n",
      "Normalized confusion matrix\n"
     ]
    },
    {
     "data": {
      "image/png": "[encoded data removed]",
      "text/plain": [
       "<Figure size 432x432 with 2 Axes>"
      ]
     },
     "metadata": {
      "needs_background": "light"
     },
     "output_type": "display_data"
    }
   ],
   "source": [
    "X_train, y_train = transform(X_smote, y_smote)\n",
    "y_pred_sm = evaluate(X_train, y_train, X_test_cnn,y_test_cnn,os='sm') "
   ]
  },
  {
   "cell_type": "markdown",
   "metadata": {},
   "source": [
    "##### BorderlineSMOTE "
   ]
  },
  {
   "cell_type": "code",
   "execution_count": 131,
   "metadata": {},
   "outputs": [
    {
     "name": "stdout",
     "output_type": "stream",
     "text": [
      "Epoch 1/10\n",
      "11324/11324 [==============================] - 190s 17ms/step - loss: 0.0951 - accuracy: 0.9682 - val_loss: 0.1081 - val_accuracy: 0.9758\n",
      "Epoch 2/10\n",
      "11324/11324 [==============================] - 187s 16ms/step - loss: 0.0316 - accuracy: 0.9905 - val_loss: 0.1215 - val_accuracy: 0.9708\n",
      "Epoch 3/10\n",
      "11324/11324 [==============================] - 185s 16ms/step - loss: 0.0200 - accuracy: 0.9942 - val_loss: 0.1057 - val_accuracy: 0.9792\n",
      "Epoch 4/10\n",
      "11324/11324 [==============================] - 190s 17ms/step - loss: 0.0158 - accuracy: 0.9955 - val_loss: 0.1179 - val_accuracy: 0.9761\n",
      "Epoch 5/10\n",
      "11324/11324 [==============================] - 185s 16ms/step - loss: 0.0130 - accuracy: 0.9963 - val_loss: 0.1216 - val_accuracy: 0.9830\n",
      "Epoch 6/10\n",
      "11324/11324 [==============================] - 179s 16ms/step - loss: 0.0105 - accuracy: 0.9971 - val_loss: 0.1103 - val_accuracy: 0.9824\n",
      "685/685 [==============================] - 3s 4ms/step\n",
      "Normalized confusion matrix\n"
     ]
    },
    {
     "data": {
      "image/png": "[encoded data removed]",
      "text/plain": [
       "<Figure size 432x432 with 2 Axes>"
      ]
     },
     "metadata": {
      "needs_background": "light"
     },
     "output_type": "display_data"
    }
   ],
   "source": [
    "X_train, y_train = transform(X_bord, y_bord)\n",
    "y_pred_bord = evaluate(X_train, y_train, X_test_cnn,y_test_cnn,os='bord')"
   ]
  },
  {
   "cell_type": "markdown",
   "metadata": {},
   "source": [
    "##### ADASYN "
   ]
  },
  {
   "cell_type": "code",
   "execution_count": 152,
   "metadata": {},
   "outputs": [
    {
     "name": "stdout",
     "output_type": "stream",
     "text": [
      "Epoch 1/10\n",
      "11321/11321 [==============================] - 190s 17ms/step - loss: 0.1225 - accuracy: 0.9566 - val_loss: 0.1595 - val_accuracy: 0.9532\n",
      "Epoch 2/10\n",
      "11321/11321 [==============================] - 193s 17ms/step - loss: 0.0368 - accuracy: 0.9881 - val_loss: 0.1200 - val_accuracy: 0.9760\n",
      "Epoch 3/10\n",
      "11321/11321 [==============================] - 195s 17ms/step - loss: 0.0236 - accuracy: 0.9927 - val_loss: 0.1307 - val_accuracy: 0.9810\n",
      "Epoch 4/10\n",
      "11321/11321 [==============================] - 195s 17ms/step - loss: 0.0180 - accuracy: 0.9946 - val_loss: 0.1659 - val_accuracy: 0.9685\n",
      "Epoch 5/10\n",
      "11321/11321 [==============================] - 202s 18ms/step - loss: 0.0142 - accuracy: 0.9957 - val_loss: 0.1182 - val_accuracy: 0.9814\n",
      "Epoch 6/10\n",
      "11321/11321 [==============================] - 205s 18ms/step - loss: 0.0118 - accuracy: 0.9966 - val_loss: 0.1531 - val_accuracy: 0.9815\n",
      "Epoch 7/10\n",
      "11321/11321 [==============================] - 200s 18ms/step - loss: 0.0107 - accuracy: 0.9968 - val_loss: 0.1902 - val_accuracy: 0.9682\n",
      "Epoch 8/10\n",
      "11321/11321 [==============================] - 204s 18ms/step - loss: 0.0092 - accuracy: 0.9974 - val_loss: 0.1527 - val_accuracy: 0.9820\n",
      "685/685 [==============================] - 5s 4ms/step\n",
      "Normalized confusion matrix\n"
     ]
    },
    {
     "data": {
      "image/png": "[encoded data removed]",
      "text/plain": [
       "<Figure size 432x432 with 2 Axes>"
      ]
     },
     "metadata": {
      "needs_background": "light"
     },
     "output_type": "display_data"
    }
   ],
   "source": [
    "X_train, y_train = transform(X_ada, y_ada)\n",
    "y_pred_ada = evaluate(X_train, y_train, X_test_cnn,y_test_cnn,os='ada')"
   ]
  },
  {
   "cell_type": "markdown",
   "metadata": {},
   "source": [
    "##### ProWSyn"
   ]
  },
  {
   "cell_type": "code",
   "execution_count": 134,
   "metadata": {
    "scrolled": false
   },
   "outputs": [
    {
     "name": "stdout",
     "output_type": "stream",
     "text": [
      "Epoch 1/10\n",
      "11324/11324 [==============================] - 184s 16ms/step - loss: 0.0893 - accuracy: 0.9695 - val_loss: 0.1065 - val_accuracy: 0.9715\n",
      "Epoch 2/10\n",
      "11324/11324 [==============================] - 182s 16ms/step - loss: 0.0355 - accuracy: 0.9881 - val_loss: 0.1463 - val_accuracy: 0.9614\n",
      "Epoch 3/10\n",
      "11324/11324 [==============================] - 182s 16ms/step - loss: 0.0245 - accuracy: 0.9919 - val_loss: 0.1062 - val_accuracy: 0.9751\n",
      "Epoch 4/10\n",
      "11324/11324 [==============================] - 188s 17ms/step - loss: 0.0190 - accuracy: 0.9937 - val_loss: 0.1000 - val_accuracy: 0.9787\n",
      "Epoch 5/10\n",
      "11324/11324 [==============================] - 207s 18ms/step - loss: 0.0161 - accuracy: 0.9948 - val_loss: 0.0970 - val_accuracy: 0.9797\n",
      "Epoch 6/10\n",
      "11324/11324 [==============================] - 246s 22ms/step - loss: 0.0135 - accuracy: 0.9956 - val_loss: 0.1028 - val_accuracy: 0.9829\n",
      "Epoch 7/10\n",
      "11324/11324 [==============================] - 198s 17ms/step - loss: 0.0120 - accuracy: 0.9961 - val_loss: 0.1066 - val_accuracy: 0.9822\n",
      "Epoch 8/10\n",
      "11324/11324 [==============================] - 190s 17ms/step - loss: 0.0107 - accuracy: 0.9965 - val_loss: 0.1161 - val_accuracy: 0.9826\n",
      "685/685 [==============================] - 3s 4ms/step\n",
      "Normalized confusion matrix\n"
     ]
    },
    {
     "data": {
      "image/png": "[encoded data removed]",
      "text/plain": [
       "<Figure size 432x432 with 2 Axes>"
      ]
     },
     "metadata": {
      "needs_background": "light"
     },
     "output_type": "display_data"
    }
   ],
   "source": [
    "X_train, y_train = transform(X_pro, y_pro)\n",
    "y_pred_pro = evaluate(X_train, y_train, X_test_cnn,y_test_cnn,os='pro')"
   ]
  },
  {
   "cell_type": "markdown",
   "metadata": {},
   "source": [
    "##### SMOTETomek"
   ]
  },
  {
   "cell_type": "code",
   "execution_count": 153,
   "metadata": {
    "scrolled": false
   },
   "outputs": [
    {
     "name": "stdout",
     "output_type": "stream",
     "text": [
      "Epoch 1/10\n",
      "11324/11324 [==============================] - 196s 17ms/step - loss: 0.0923 - accuracy: 0.9679 - val_loss: 0.1368 - val_accuracy: 0.9627\n",
      "Epoch 2/10\n",
      "11324/11324 [==============================] - 198s 17ms/step - loss: 0.0337 - accuracy: 0.9887 - val_loss: 0.1127 - val_accuracy: 0.9716\n",
      "Epoch 3/10\n",
      "11324/11324 [==============================] - 203s 18ms/step - loss: 0.0222 - accuracy: 0.9928 - val_loss: 0.1618 - val_accuracy: 0.9605\n",
      "Epoch 4/10\n",
      "11324/11324 [==============================] - 201s 18ms/step - loss: 0.0173 - accuracy: 0.9946 - val_loss: 0.1103 - val_accuracy: 0.9810\n",
      "Epoch 5/10\n",
      "11324/11324 [==============================] - 201s 18ms/step - loss: 0.0143 - accuracy: 0.9955 - val_loss: 0.1112 - val_accuracy: 0.9824\n",
      "Epoch 6/10\n",
      "11324/11324 [==============================] - 203s 18ms/step - loss: 0.0119 - accuracy: 0.9963 - val_loss: 0.1340 - val_accuracy: 0.9785\n",
      "Epoch 7/10\n",
      "11324/11324 [==============================] - 207s 18ms/step - loss: 0.0103 - accuracy: 0.9968 - val_loss: 0.1216 - val_accuracy: 0.9783\n",
      "685/685 [==============================] - 3s 4ms/step\n",
      "Normalized confusion matrix\n"
     ]
    },
    {
     "data": {
      "image/png": "[encoded data removed]",
      "text/plain": [
       "<Figure size 432x432 with 2 Axes>"
      ]
     },
     "metadata": {
      "needs_background": "light"
     },
     "output_type": "display_data"
    }
   ],
   "source": [
    "X_train, y_train = transform(X_tom, y_tom)\n",
    "y_pred_tom = evaluate(X_train, y_train, X_test_cnn,y_test_cnn,os='pro')"
   ]
  },
  {
   "cell_type": "markdown",
   "metadata": {},
   "source": [
    "### Other Classifiers: Random Forest, K-NN"
   ]
  },
  {
   "cell_type": "code",
   "execution_count": 123,
   "metadata": {},
   "outputs": [],
   "source": [
    "X_test, y_test = test_df.iloc[:,:-1].values, test_df.iloc[:,-1].values"
   ]
  },
  {
   "cell_type": "markdown",
   "metadata": {},
   "source": [
    "#### Random Forest"
   ]
  },
  {
   "cell_type": "code",
   "execution_count": 64,
   "metadata": {},
   "outputs": [
    {
     "name": "stderr",
     "output_type": "stream",
     "text": [
      "[Parallel(n_jobs=1)]: Using backend SequentialBackend with 1 concurrent workers.\n"
     ]
    },
    {
     "name": "stdout",
     "output_type": "stream",
     "text": [
      "building tree 1 of 10\n"
     ]
    },
    {
     "name": "stderr",
     "output_type": "stream",
     "text": [
      "[Parallel(n_jobs=1)]: Done   1 out of   1 | elapsed:    1.9s remaining:    0.0s\n"
     ]
    },
    {
     "name": "stdout",
     "output_type": "stream",
     "text": [
      "building tree 2 of 10\n",
      "building tree 3 of 10\n",
      "building tree 4 of 10\n",
      "building tree 5 of 10\n",
      "building tree 6 of 10\n",
      "building tree 7 of 10\n",
      "building tree 8 of 10\n",
      "building tree 9 of 10\n",
      "building tree 10 of 10\n"
     ]
    },
    {
     "name": "stderr",
     "output_type": "stream",
     "text": [
      "[Parallel(n_jobs=1)]: Done  10 out of  10 | elapsed:   20.4s finished\n",
      "[Parallel(n_jobs=1)]: Using backend SequentialBackend with 1 concurrent workers.\n",
      "[Parallel(n_jobs=1)]: Done   1 out of   1 | elapsed:    0.0s remaining:    0.0s\n",
      "[Parallel(n_jobs=1)]: Done  10 out of  10 | elapsed:    0.0s finished\n"
     ]
    }
   ],
   "source": [
    "rf_clf = RandomForestClassifier(verbose=2, n_estimators=10) #default = 100\n",
    "rf_clf.fit(X, y)\n",
    "y_rf_np = rf_clf.predict(X_test)\n",
    "\n",
    "rf_clf.fit(X_up, y_up)\n",
    "y_rf_up = rf_clf.predict(X_test)\n",
    "\n",
    "rf_clf.fit(X_smote, y_smote)\n",
    "y_rf_sm = rf_clf.predict(X_test)\n",
    "\n",
    "rf_clf.fit(X_bord, y_bord)\n",
    "y_rf_bord = rf_clf.predict(X_test)\n",
    "\n",
    "rf_clf.fit(X_ada, y_ada)\n",
    "y_rf_ada = rf_clf.predict(X_test)\n",
    "\n",
    "rf_clf.fit(X_pro, y_pro)\n",
    "y_rf_pro = rf_clf.predict(X_test)\n",
    "\n",
    "rf_clf.fit(X_tom, y_tom)\n",
    "y_rf_tom = rf_clf.predict(X_test)"
   ]
  },
  {
   "cell_type": "markdown",
   "metadata": {},
   "source": [
    "#### K-NN"
   ]
  },
  {
   "cell_type": "code",
   "execution_count": 52,
   "metadata": {},
   "outputs": [],
   "source": [
    "knn_clf=KNeighborsClassifier()\n",
    "knn_clf.fit(X,y)\n",
    "y_knn_np=knn_clf.predict(X_test) \n",
    "\n",
    "knn_clf.fit(X_up, y_up)\n",
    "y_knn_up = knn_clf.predict(X_test)\n",
    "\n",
    "knn_clf.fit(X_smote, y_smote)\n",
    "y_knn_sm = knn_clf.predict(X_test)\n",
    "\n",
    "knn_clf.fit(X_bord, y_bord)\n",
    "y_knn_bord = knn_clf.predict(X_test)\n",
    "\n",
    "knn_clf.fit(X_ada, y_ada)\n",
    "y_knn_ada = knn_clf.predict(X_test)\n",
    "\n",
    "knn_clf.fit(X_pro, y_pro)\n",
    "y_knn_pro = knn_clf.predict(X_test)\n",
    "\n",
    "knn_clf.fit(X_tom, y_tom)\n",
    "y_knn_tom = knn_clf.predict(X_test)"
   ]
  },
  {
   "cell_type": "code",
   "execution_count": null,
   "metadata": {},
   "outputs": [],
   "source": []
  },
  {
   "cell_type": "markdown",
   "metadata": {},
   "source": [
    "### Evaluation Metrics"
   ]
  },
  {
   "cell_type": "code",
   "execution_count": 27,
   "metadata": {},
   "outputs": [],
   "source": [
    "def TP(i, pred_y): # i denotes class \n",
    "    #predicted as i class and true=i\n",
    "    true_y = test_df.iloc[:,-1].values\n",
    "    n = len(pred_y)\n",
    "    score=0\n",
    "    for j in range(n):\n",
    "        if pred_y[j]==i and true_y[j]==i:\n",
    "            score+=1   \n",
    "    return score\n",
    "\n",
    "def FP(i, pred_y): # i denotes class \n",
    "    #predicted as i class but true!=i\n",
    "    true_y = test_df.iloc[:,-1].values\n",
    "    n = len(pred_y)\n",
    "    score=0\n",
    "    for j in range(n):\n",
    "        if pred_y[j]==i and true_y[j]!=i:\n",
    "            score+=1\n",
    "    return score\n",
    "\n",
    "def TN(i, pred_y): # i denotes class \n",
    "    #predicted as non-i class and made pred=true\n",
    "    true_y = test_df.iloc[:,-1].values\n",
    "    n = len(pred_y)\n",
    "    score=0\n",
    "    for j in range(n):\n",
    "        if pred_y[j]!=i and true_y[j]==pred_y[j]:\n",
    "            score+=1       \n",
    "    return score\n",
    "\n",
    "def FN(i, pred_y): # i denotes class \n",
    "    #predicted as non-i class but true=i\n",
    "    true_y = test_df.iloc[:,-1].values\n",
    "    n = len(pred_y)\n",
    "    score=0\n",
    "    for j in range(n):\n",
    "        if pred_y[j]!=i and true_y[j]==i:\n",
    "            score+=1     \n",
    "    return score"
   ]
  },
  {
   "cell_type": "markdown",
   "metadata": {},
   "source": [
    "#### 1. Metric for each class"
   ]
  },
  {
   "cell_type": "code",
   "execution_count": 24,
   "metadata": {},
   "outputs": [],
   "source": [
    "def precision(i,pred_y):\n",
    "    return TP(i,pred_y)/(TP(i,pred_y)+FP(i,pred_y))\n",
    "\n",
    "def recall(i,pred_y):  \n",
    "    return TP(i,pred_y)/(TP(i,pred_y)+FN(i,pred_y))\n",
    "\n",
    "def specificity(i,pred_y):\n",
    "    return TN(i,pred_y)/(TN(i,pred_y)+FP(i,pred_y))\n",
    "\n",
    "def F_measure(i, pred_y, beta=2):\n",
    "    '''\n",
    "    combines precision and recall as a measure of the effectiveness of classification\n",
    "    in terms of a ratio of the weighted importance on either recall or precision as determined by the beta coefficient\n",
    "    ''' \n",
    "    r = recall(i,pred_y)\n",
    "    p = precision(i,pred_y)    \n",
    "    return (1+beta**2)*r*p/(beta**2*p+r)\n",
    "\n",
    "def G_mean(i, pred_y):\n",
    "    '''\n",
    "    Evaluates the degree of inductive bias in terms of a ratio of positive accuracy and negative accuracy.\n",
    "    '''\n",
    "    r = recall(i,pred_y)\n",
    "    s = specificity(i,pred_y)\n",
    "    return np.sqrt(r*s)"
   ]
  },
  {
   "cell_type": "markdown",
   "metadata": {},
   "source": [
    "#### 2. Metric over all classes "
   ]
  },
  {
   "cell_type": "code",
   "execution_count": 107,
   "metadata": {},
   "outputs": [],
   "source": [
    "def MacroAccu(pred_y):\n",
    "    ''' macro-averaged accuracy '''\n",
    "    true_y = test_df.iloc[:,-1].values\n",
    "    return balanced_accuracy_score(true_y, pred_y)\n",
    "\n",
    "def WeightedAccu(pred_y):\n",
    "    ''' weights = inverse frequency of sample'''\n",
    "    score = 0\n",
    "    dist=test_df[187].astype(int).value_counts()\n",
    "    weight_sum = np.sum([1/dist[i] for i in range(5)])\n",
    "    \n",
    "    for i in range(5):\n",
    "        score+=(1/dist[i])*recall(i,pred_y)\n",
    "    \n",
    "    return score/weight_sum\n",
    "    \n",
    "def GeoMean(pred_y):\n",
    "    score = 1\n",
    "    for i in range(5):\n",
    "        score*=recall(i,pred_y)\n",
    "    return np.power(score,1/5)\n",
    "\n",
    "def MacroF(pred_y):\n",
    "    ''' macro-averaged F-score'''\n",
    "    return np.mean([F_measure(i,pred_y) for i in range(5)])\n",
    "\n",
    "def MCC(pred_y):\n",
    "    '''Mattheu's Coefficient'''\n",
    "    true_y = test_df.iloc[:,-1].values\n",
    "    return matthews_corrcoef(true_y, pred_y)"
   ]
  },
  {
   "cell_type": "markdown",
   "metadata": {},
   "source": [
    "### Result Report"
   ]
  },
  {
   "cell_type": "markdown",
   "metadata": {},
   "source": [
    "#### Prediction Results"
   ]
  },
  {
   "cell_type": "code",
   "execution_count": 218,
   "metadata": {},
   "outputs": [],
   "source": [
    "cnn_preds = {'NonProcessed':y_pred_np, 'RandUpsample':y_pred_up,'SMOTE':y_pred_sm,'BorderSMOTE':y_pred_bord,\n",
    "         'ADASYN':y_pred_ada, 'ProWSyn':y_pred_pro, 'SMOTETomek':y_pred_tom}\n",
    "\n",
    "rf_preds = {'NonProcessed':y_rf_np, 'RandUpsample':y_rf_up,'SMOTE':y_rf_sm,'BorderSMOTE':y_rf_bord,\n",
    "         'ADASYN':y_rf_ada, 'ProWSyn':y_rf_pro, 'SMOTETomek':y_rf_tom}\n",
    "\n",
    "knn_preds = {'NonProcessed':y_knn_np, 'RandUpsample':y_knn_up,'SMOTE':y_knn_sm,'BorderSMOTE':y_knn_bord,\n",
    "         'ADASYN':y_knn_ada, 'ProWSyn':y_knn_pro,'SMOTETomek':y_knn_tom}\n",
    "\n",
    "preds_list = [cnn_preds, rf_preds, knn_preds]"
   ]
  },
  {
   "cell_type": "markdown",
   "metadata": {},
   "source": [
    "#### Report Functions"
   ]
  },
  {
   "cell_type": "code",
   "execution_count": 159,
   "metadata": {},
   "outputs": [],
   "source": [
    "# Individual Class Level\n",
    "\n",
    "def gen_cls_row(preds,metric,cls=None):\n",
    "    index = metric.__name__\n",
    "    columns = [p for p in preds]\n",
    "    predictions = [preds[p] for p in preds]\n",
    "    tmp = []\n",
    "    \n",
    "    if cls:\n",
    "        for p in predictions: \n",
    "            if len(p.shape)>1:\n",
    "                tmp.append(metric(cls, p.argmax(axis=1)))\n",
    "            else:\n",
    "                tmp.append(metric(cls,p))\n",
    "    else:\n",
    "        for p in predictions: \n",
    "            if len(p.shape)>1:\n",
    "                tmp.append(metric(p.argmax(axis=1)))\n",
    "            else:\n",
    "                tmp.append(metric(p))\n",
    "\n",
    "    data = dict(zip(columns, tmp))\n",
    "    return index, data\n",
    "\n",
    "def gen_cls_table(preds,metric_list=[precision, recall, F_measure], cls=None):\n",
    "    index_list = []\n",
    "    data_list = []\n",
    "    \n",
    "    for m in metric_list:\n",
    "        i,d = gen_cls_row(preds,m,cls)\n",
    "        index_list.append(i)\n",
    "        data_list.append(d)\n",
    "\n",
    "    df = pd.DataFrame(data_list, index=index_list)\n",
    "    \n",
    "    return df\n",
    "\n",
    "def gen_table(preds, metric_list=[precision, recall, F_measure], cls_list=[1,2,3,4]):\n",
    "    key_list = cls_list\n",
    "    df_list = []\n",
    "    for cls in cls_list:\n",
    "        df = gen_cls_table(preds,metric_list,cls)\n",
    "        df_list.append(df)\n",
    "    \n",
    "    res = pd.concat(df_list, axis=1,keys=key_list)\n",
    "    return res"
   ]
  },
  {
   "cell_type": "code",
   "execution_count": 160,
   "metadata": {},
   "outputs": [],
   "source": [
    "# Combined Level\n",
    "\n",
    "def gen_overall_table(preds,metric_list=[WeightedAccu,GeoMean,MacroF]):\n",
    "    \n",
    "    index_list = []\n",
    "    data_list = []\n",
    "    \n",
    "    for m in metric_list:\n",
    "        i,d = gen_cls_row(preds,m)\n",
    "        index_list.append(i)\n",
    "        data_list.append(d)\n",
    "\n",
    "    df = pd.DataFrame(data_list, index=index_list)\n",
    "    \n",
    "    return df"
   ]
  },
  {
   "cell_type": "markdown",
   "metadata": {},
   "source": [
    "#### Generate Report Table"
   ]
  },
  {
   "cell_type": "code",
   "execution_count": 245,
   "metadata": {},
   "outputs": [],
   "source": [
    "individual_knn = gen_table(knn_preds)\n",
    "individual_rf = gen_table(rf_preds)\n",
    "individual_cnn = gen_table(cnn_preds)\n",
    "\n",
    "overall_knn = gen_overall_table(knn_preds)\n",
    "overall_rf = gen_overall_table(rf_preds)\n",
    "overall_cnn = gen_overall_table(cnn_preds)"
   ]
  },
  {
   "cell_type": "markdown",
   "metadata": {},
   "source": [
    "##### Example"
   ]
  },
  {
   "cell_type": "code",
   "execution_count": 246,
   "metadata": {
    "scrolled": true
   },
   "outputs": [
    {
     "data": {
      "text/html": [
       "<div>\n",
       "<style scoped>\n",
       "    .dataframe tbody tr th:only-of-type {\n",
       "        vertical-align: middle;\n",
       "    }\n",
       "\n",
       "    .dataframe tbody tr th {\n",
       "        vertical-align: top;\n",
       "    }\n",
       "\n",
       "    .dataframe thead th {\n",
       "        text-align: right;\n",
       "    }\n",
       "</style>\n",
       "<table border=\"1\" class=\"dataframe\">\n",
       "  <thead>\n",
       "    <tr style=\"text-align: right;\">\n",
       "      <th></th>\n",
       "      <th>NonProcessed</th>\n",
       "      <th>RandUpsample</th>\n",
       "      <th>SMOTE</th>\n",
       "      <th>BorderSMOTE</th>\n",
       "      <th>ADASYN</th>\n",
       "      <th>ProWSyn</th>\n",
       "      <th>SMOTETomek</th>\n",
       "    </tr>\n",
       "  </thead>\n",
       "  <tbody>\n",
       "    <tr>\n",
       "      <th>WeightedAccu</th>\n",
       "      <td>0.800164</td>\n",
       "      <td>0.840683</td>\n",
       "      <td>0.838287</td>\n",
       "      <td>0.786858</td>\n",
       "      <td>0.851002</td>\n",
       "      <td>0.854917</td>\n",
       "      <td>0.850764</td>\n",
       "    </tr>\n",
       "    <tr>\n",
       "      <th>GeoMean</th>\n",
       "      <td>0.884764</td>\n",
       "      <td>0.912290</td>\n",
       "      <td>0.909560</td>\n",
       "      <td>0.890215</td>\n",
       "      <td>0.913549</td>\n",
       "      <td>0.910925</td>\n",
       "      <td>0.911483</td>\n",
       "    </tr>\n",
       "    <tr>\n",
       "      <th>MacroF</th>\n",
       "      <td>0.896943</td>\n",
       "      <td>0.909321</td>\n",
       "      <td>0.913031</td>\n",
       "      <td>0.894343</td>\n",
       "      <td>0.912088</td>\n",
       "      <td>0.908084</td>\n",
       "      <td>0.909600</td>\n",
       "    </tr>\n",
       "  </tbody>\n",
       "</table>\n",
       "</div>"
      ],
      "text/plain": [
       "              NonProcessed  RandUpsample     SMOTE  BorderSMOTE    ADASYN  \\\n",
       "WeightedAccu      0.800164      0.840683  0.838287     0.786858  0.851002   \n",
       "GeoMean           0.884764      0.912290  0.909560     0.890215  0.913549   \n",
       "MacroF            0.896943      0.909321  0.913031     0.894343  0.912088   \n",
       "\n",
       "               ProWSyn  SMOTETomek  \n",
       "WeightedAccu  0.854917    0.850764  \n",
       "GeoMean       0.910925    0.911483  \n",
       "MacroF        0.908084    0.909600  "
      ]
     },
     "execution_count": 246,
     "metadata": {},
     "output_type": "execute_result"
    }
   ],
   "source": [
    "overall_cnn"
   ]
  },
  {
   "cell_type": "code",
   "execution_count": 247,
   "metadata": {
    "scrolled": true
   },
   "outputs": [
    {
     "data": {
      "text/html": [
       "<div>\n",
       "<style scoped>\n",
       "    .dataframe tbody tr th:only-of-type {\n",
       "        vertical-align: middle;\n",
       "    }\n",
       "\n",
       "    .dataframe tbody tr th {\n",
       "        vertical-align: top;\n",
       "    }\n",
       "\n",
       "    .dataframe thead tr th {\n",
       "        text-align: left;\n",
       "    }\n",
       "</style>\n",
       "<table border=\"1\" class=\"dataframe\">\n",
       "  <thead>\n",
       "    <tr>\n",
       "      <th></th>\n",
       "      <th colspan=\"7\" halign=\"left\">1</th>\n",
       "      <th colspan=\"7\" halign=\"left\">3</th>\n",
       "    </tr>\n",
       "    <tr>\n",
       "      <th></th>\n",
       "      <th>NonProcessed</th>\n",
       "      <th>RandUpsample</th>\n",
       "      <th>SMOTE</th>\n",
       "      <th>BorderSMOTE</th>\n",
       "      <th>ADASYN</th>\n",
       "      <th>ProWSyn</th>\n",
       "      <th>SMOTETomek</th>\n",
       "      <th>NonProcessed</th>\n",
       "      <th>RandUpsample</th>\n",
       "      <th>SMOTE</th>\n",
       "      <th>BorderSMOTE</th>\n",
       "      <th>ADASYN</th>\n",
       "      <th>ProWSyn</th>\n",
       "      <th>SMOTETomek</th>\n",
       "    </tr>\n",
       "  </thead>\n",
       "  <tbody>\n",
       "    <tr>\n",
       "      <th>precision</th>\n",
       "      <td>0.883475</td>\n",
       "      <td>0.811620</td>\n",
       "      <td>0.822785</td>\n",
       "      <td>0.825603</td>\n",
       "      <td>0.814617</td>\n",
       "      <td>0.780702</td>\n",
       "      <td>0.791738</td>\n",
       "      <td>0.797468</td>\n",
       "      <td>0.702128</td>\n",
       "      <td>0.800000</td>\n",
       "      <td>0.714286</td>\n",
       "      <td>0.745856</td>\n",
       "      <td>0.728723</td>\n",
       "      <td>0.729730</td>\n",
       "    </tr>\n",
       "    <tr>\n",
       "      <th>recall</th>\n",
       "      <td>0.750000</td>\n",
       "      <td>0.829137</td>\n",
       "      <td>0.818345</td>\n",
       "      <td>0.800360</td>\n",
       "      <td>0.821942</td>\n",
       "      <td>0.800360</td>\n",
       "      <td>0.827338</td>\n",
       "      <td>0.777778</td>\n",
       "      <td>0.814815</td>\n",
       "      <td>0.814815</td>\n",
       "      <td>0.740741</td>\n",
       "      <td>0.833333</td>\n",
       "      <td>0.845679</td>\n",
       "      <td>0.833333</td>\n",
       "    </tr>\n",
       "    <tr>\n",
       "      <th>F_measure</th>\n",
       "      <td>0.773368</td>\n",
       "      <td>0.825573</td>\n",
       "      <td>0.819229</td>\n",
       "      <td>0.805284</td>\n",
       "      <td>0.820467</td>\n",
       "      <td>0.796349</td>\n",
       "      <td>0.819964</td>\n",
       "      <td>0.781638</td>\n",
       "      <td>0.789474</td>\n",
       "      <td>0.811808</td>\n",
       "      <td>0.735294</td>\n",
       "      <td>0.814234</td>\n",
       "      <td>0.819378</td>\n",
       "      <td>0.810324</td>\n",
       "    </tr>\n",
       "  </tbody>\n",
       "</table>\n",
       "</div>"
      ],
      "text/plain": [
       "                     1                                                         \\\n",
       "          NonProcessed RandUpsample     SMOTE BorderSMOTE    ADASYN   ProWSyn   \n",
       "precision     0.883475     0.811620  0.822785    0.825603  0.814617  0.780702   \n",
       "recall        0.750000     0.829137  0.818345    0.800360  0.821942  0.800360   \n",
       "F_measure     0.773368     0.825573  0.819229    0.805284  0.820467  0.796349   \n",
       "\n",
       "                                3                                     \\\n",
       "          SMOTETomek NonProcessed RandUpsample     SMOTE BorderSMOTE   \n",
       "precision   0.791738     0.797468     0.702128  0.800000    0.714286   \n",
       "recall      0.827338     0.777778     0.814815  0.814815    0.740741   \n",
       "F_measure   0.819964     0.781638     0.789474  0.811808    0.735294   \n",
       "\n",
       "                                          \n",
       "             ADASYN   ProWSyn SMOTETomek  \n",
       "precision  0.745856  0.728723   0.729730  \n",
       "recall     0.833333  0.845679   0.833333  \n",
       "F_measure  0.814234  0.819378   0.810324  "
      ]
     },
     "execution_count": 247,
     "metadata": {},
     "output_type": "execute_result"
    }
   ],
   "source": [
    "individual_cnn[[1,3]]"
   ]
  },
  {
   "cell_type": "code",
   "execution_count": null,
   "metadata": {},
   "outputs": [],
   "source": []
  },
  {
   "cell_type": "markdown",
   "metadata": {},
   "source": [
    "#### Result summary by rank"
   ]
  },
  {
   "cell_type": "code",
   "execution_count": 254,
   "metadata": {},
   "outputs": [],
   "source": [
    "def indiv_rank(dfs=[individual_rf,individual_knn,individual_cnn],cls_list=[1,2,3,4]): #dfs or subset of dfs\n",
    "    result = pd.DataFrame()\n",
    "    for cls in cls_list:\n",
    "        rank_dfs = [df[cls].rank(axis=1,ascending=False) for df in dfs]\n",
    "        cls_result = sum(rank_dfs)/len(dfs)\n",
    "        \n",
    "        if cls==cls_list[0]:\n",
    "            result = cls_result\n",
    "        else:\n",
    "            result = sum([result,cls_result])\n",
    "\n",
    "    result/=len(cls_list)\n",
    "    return result\n",
    "\n",
    "def overall_rank(dfs=[overall_rf,overall_knn,overall_cnn]):  \n",
    "    rank_dfs = [df.rank(axis=1, ascending=False) for df in dfs ]\n",
    "    result = sum(rank_dfs)/len(dfs)\n",
    "    return result \n"
   ]
  },
  {
   "cell_type": "code",
   "execution_count": 259,
   "metadata": {
    "scrolled": true
   },
   "outputs": [
    {
     "data": {
      "text/html": [
       "<div>\n",
       "<style scoped>\n",
       "    .dataframe tbody tr th:only-of-type {\n",
       "        vertical-align: middle;\n",
       "    }\n",
       "\n",
       "    .dataframe tbody tr th {\n",
       "        vertical-align: top;\n",
       "    }\n",
       "\n",
       "    .dataframe thead th {\n",
       "        text-align: right;\n",
       "    }\n",
       "</style>\n",
       "<table border=\"1\" class=\"dataframe\">\n",
       "  <thead>\n",
       "    <tr style=\"text-align: right;\">\n",
       "      <th></th>\n",
       "      <th>NonProcessed</th>\n",
       "      <th>RandUpsample</th>\n",
       "      <th>SMOTE</th>\n",
       "      <th>BorderSMOTE</th>\n",
       "      <th>ADASYN</th>\n",
       "      <th>ProWSyn</th>\n",
       "      <th>SMOTETomek</th>\n",
       "    </tr>\n",
       "  </thead>\n",
       "  <tbody>\n",
       "    <tr>\n",
       "      <th>recall</th>\n",
       "      <td>6.833333</td>\n",
       "      <td>4.833333</td>\n",
       "      <td>3.333333</td>\n",
       "      <td>5.500000</td>\n",
       "      <td>3.083333</td>\n",
       "      <td>2.250000</td>\n",
       "      <td>2.166667</td>\n",
       "    </tr>\n",
       "    <tr>\n",
       "      <th>F_measure</th>\n",
       "      <td>6.833333</td>\n",
       "      <td>3.333333</td>\n",
       "      <td>3.166667</td>\n",
       "      <td>4.833333</td>\n",
       "      <td>4.000000</td>\n",
       "      <td>3.000000</td>\n",
       "      <td>2.833333</td>\n",
       "    </tr>\n",
       "    <tr>\n",
       "      <th>WeightedAccu</th>\n",
       "      <td>6.666667</td>\n",
       "      <td>5.333333</td>\n",
       "      <td>3.666667</td>\n",
       "      <td>5.666667</td>\n",
       "      <td>3.333333</td>\n",
       "      <td>1.000000</td>\n",
       "      <td>2.333333</td>\n",
       "    </tr>\n",
       "    <tr>\n",
       "      <th>GeoMean</th>\n",
       "      <td>7.000000</td>\n",
       "      <td>4.666667</td>\n",
       "      <td>4.000000</td>\n",
       "      <td>5.333333</td>\n",
       "      <td>2.000000</td>\n",
       "      <td>2.666667</td>\n",
       "      <td>2.333333</td>\n",
       "    </tr>\n",
       "    <tr>\n",
       "      <th>MacroF</th>\n",
       "      <td>6.666667</td>\n",
       "      <td>3.666667</td>\n",
       "      <td>2.666667</td>\n",
       "      <td>5.000000</td>\n",
       "      <td>4.000000</td>\n",
       "      <td>3.333333</td>\n",
       "      <td>2.666667</td>\n",
       "    </tr>\n",
       "  </tbody>\n",
       "</table>\n",
       "</div>"
      ],
      "text/plain": [
       "              NonProcessed  RandUpsample     SMOTE  BorderSMOTE    ADASYN  \\\n",
       "recall            6.833333      4.833333  3.333333     5.500000  3.083333   \n",
       "F_measure         6.833333      3.333333  3.166667     4.833333  4.000000   \n",
       "WeightedAccu      6.666667      5.333333  3.666667     5.666667  3.333333   \n",
       "GeoMean           7.000000      4.666667  4.000000     5.333333  2.000000   \n",
       "MacroF            6.666667      3.666667  2.666667     5.000000  4.000000   \n",
       "\n",
       "               ProWSyn  SMOTETomek  \n",
       "recall        2.250000    2.166667  \n",
       "F_measure     3.000000    2.833333  \n",
       "WeightedAccu  1.000000    2.333333  \n",
       "GeoMean       2.666667    2.333333  \n",
       "MacroF        3.333333    2.666667  "
      ]
     },
     "execution_count": 259,
     "metadata": {},
     "output_type": "execute_result"
    }
   ],
   "source": [
    "rank_1 = indiv_rank(cls_list=[1,3])\n",
    "rank_2 = overall_rank()\n",
    "\n",
    "all_ranks = pd.concat([rank_1,rank_2])\n",
    "all_ranks.iloc[1:]"
   ]
  },
  {
   "cell_type": "code",
   "execution_count": null,
   "metadata": {},
   "outputs": [],
   "source": []
  },
  {
   "cell_type": "code",
   "execution_count": null,
   "metadata": {},
   "outputs": [],
   "source": []
  }
 ],
 "metadata": {
  "kernelspec": {
   "display_name": "Python 3",
   "language": "python",
   "name": "python3"
  },
  "language_info": {
   "codemirror_mode": {
    "name": "ipython",
    "version": 3
   },
   "file_extension": ".py",
   "mimetype": "text/x-python",
   "name": "python",
   "nbconvert_exporter": "python",
   "pygments_lexer": "ipython3",
   "version": "3.8.3"
  }
 },
 "nbformat": 4,
 "nbformat_minor": 4
}
